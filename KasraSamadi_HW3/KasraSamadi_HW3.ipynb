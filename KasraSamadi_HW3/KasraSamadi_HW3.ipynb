{
 "cells": [
  {
   "cell_type": "markdown",
   "id": "e0917cfa",
   "metadata": {},
   "source": [
    "# Kasra Samadi 993623030 \n",
    "# HW3 DataMining\n",
    "# Chapter 4 : CLUSTERING"
   ]
  },
  {
   "cell_type": "markdown",
   "id": "36a63b20",
   "metadata": {},
   "source": [
    "## Tasks : \n",
    "### 1- Read data set-4.csv\n",
    "### 2- Obtaining information (#Rows, #Columns, Types of Columns, describe of dataFrame, Missing values, Inconsistent datas)\n",
    "### 3- K_Means\n",
    "### 4- K_Medians\n",
    "### 5- DBSCAN \n"
   ]
  },
  {
   "cell_type": "markdown",
   "id": "c69e6e25",
   "metadata": {},
   "source": [
    "# Task 1 And 2"
   ]
  },
  {
   "cell_type": "markdown",
   "id": "78c859a4",
   "metadata": {},
   "source": [
    "## Import libraries"
   ]
  },
  {
   "cell_type": "code",
   "execution_count": 1,
   "id": "b8265ecd",
   "metadata": {},
   "outputs": [],
   "source": [
    "import numpy as np\n",
    "import pandas as pd\n",
    "import seaborn as sns\n",
    "import matplotlib.pyplot as plt\n"
   ]
  },
  {
   "cell_type": "markdown",
   "id": "950a069b",
   "metadata": {},
   "source": [
    "## Reading data set-4.csv"
   ]
  },
  {
   "cell_type": "code",
   "execution_count": 2,
   "id": "22611acf",
   "metadata": {},
   "outputs": [],
   "source": [
    "df = pd.read_csv(\"data set-4.csv\")\n"
   ]
  },
  {
   "cell_type": "markdown",
   "id": "f35be81c",
   "metadata": {},
   "source": [
    "## Missing datas are marked with NaN"
   ]
  },
  {
   "cell_type": "code",
   "execution_count": 3,
   "id": "bc94efc7",
   "metadata": {},
   "outputs": [
    {
     "data": {
      "text/html": [
       "<div>\n",
       "<style scoped>\n",
       "    .dataframe tbody tr th:only-of-type {\n",
       "        vertical-align: middle;\n",
       "    }\n",
       "\n",
       "    .dataframe tbody tr th {\n",
       "        vertical-align: top;\n",
       "    }\n",
       "\n",
       "    .dataframe thead th {\n",
       "        text-align: right;\n",
       "    }\n",
       "</style>\n",
       "<table border=\"1\" class=\"dataframe\">\n",
       "  <thead>\n",
       "    <tr style=\"text-align: right;\">\n",
       "      <th></th>\n",
       "      <th>Weight</th>\n",
       "      <th>Cholesterol</th>\n",
       "      <th>Gender</th>\n",
       "    </tr>\n",
       "  </thead>\n",
       "  <tbody>\n",
       "    <tr>\n",
       "      <th>0</th>\n",
       "      <td>102</td>\n",
       "      <td>111</td>\n",
       "      <td>1</td>\n",
       "    </tr>\n",
       "    <tr>\n",
       "      <th>1</th>\n",
       "      <td>115</td>\n",
       "      <td>135</td>\n",
       "      <td>1</td>\n",
       "    </tr>\n",
       "    <tr>\n",
       "      <th>2</th>\n",
       "      <td>115</td>\n",
       "      <td>136</td>\n",
       "      <td>1</td>\n",
       "    </tr>\n",
       "    <tr>\n",
       "      <th>3</th>\n",
       "      <td>140</td>\n",
       "      <td>167</td>\n",
       "      <td>0</td>\n",
       "    </tr>\n",
       "    <tr>\n",
       "      <th>4</th>\n",
       "      <td>130</td>\n",
       "      <td>158</td>\n",
       "      <td>1</td>\n",
       "    </tr>\n",
       "    <tr>\n",
       "      <th>...</th>\n",
       "      <td>...</td>\n",
       "      <td>...</td>\n",
       "      <td>...</td>\n",
       "    </tr>\n",
       "    <tr>\n",
       "      <th>542</th>\n",
       "      <td>172</td>\n",
       "      <td>207</td>\n",
       "      <td>1</td>\n",
       "    </tr>\n",
       "    <tr>\n",
       "      <th>543</th>\n",
       "      <td>129</td>\n",
       "      <td>157</td>\n",
       "      <td>1</td>\n",
       "    </tr>\n",
       "    <tr>\n",
       "      <th>544</th>\n",
       "      <td>107</td>\n",
       "      <td>115</td>\n",
       "      <td>1</td>\n",
       "    </tr>\n",
       "    <tr>\n",
       "      <th>545</th>\n",
       "      <td>117</td>\n",
       "      <td>147</td>\n",
       "      <td>1</td>\n",
       "    </tr>\n",
       "    <tr>\n",
       "      <th>546</th>\n",
       "      <td>148</td>\n",
       "      <td>176</td>\n",
       "      <td>1</td>\n",
       "    </tr>\n",
       "  </tbody>\n",
       "</table>\n",
       "<p>547 rows × 3 columns</p>\n",
       "</div>"
      ],
      "text/plain": [
       "     Weight  Cholesterol  Gender\n",
       "0       102          111       1\n",
       "1       115          135       1\n",
       "2       115          136       1\n",
       "3       140          167       0\n",
       "4       130          158       1\n",
       "..      ...          ...     ...\n",
       "542     172          207       1\n",
       "543     129          157       1\n",
       "544     107          115       1\n",
       "545     117          147       1\n",
       "546     148          176       1\n",
       "\n",
       "[547 rows x 3 columns]"
      ]
     },
     "execution_count": 3,
     "metadata": {},
     "output_type": "execute_result"
    }
   ],
   "source": [
    "df\n"
   ]
  },
  {
   "cell_type": "markdown",
   "id": "3ed9659a",
   "metadata": {},
   "source": [
    "## This dataFrame has 547 rows and 3 columns"
   ]
  },
  {
   "cell_type": "code",
   "execution_count": 4,
   "id": "ce3d8380",
   "metadata": {},
   "outputs": [
    {
     "data": {
      "text/plain": [
       "(547, 3)"
      ]
     },
     "execution_count": 4,
     "metadata": {},
     "output_type": "execute_result"
    }
   ],
   "source": [
    "df.shape\n"
   ]
  },
  {
   "cell_type": "markdown",
   "id": "e76eebe2",
   "metadata": {},
   "source": [
    "## Find columns names and their types"
   ]
  },
  {
   "cell_type": "code",
   "execution_count": 5,
   "id": "d6424022",
   "metadata": {},
   "outputs": [
    {
     "data": {
      "text/plain": [
       "Weight         int64\n",
       "Cholesterol    int64\n",
       "Gender         int64\n",
       "dtype: object"
      ]
     },
     "execution_count": 5,
     "metadata": {},
     "output_type": "execute_result"
    }
   ],
   "source": [
    "df.dtypes\n"
   ]
  },
  {
   "cell_type": "markdown",
   "id": "e8ef9195",
   "metadata": {},
   "source": [
    "## Show The describe of this dataFrame"
   ]
  },
  {
   "cell_type": "code",
   "execution_count": 6,
   "id": "2cc49480",
   "metadata": {
    "scrolled": false
   },
   "outputs": [
    {
     "data": {
      "text/html": [
       "<div>\n",
       "<style scoped>\n",
       "    .dataframe tbody tr th:only-of-type {\n",
       "        vertical-align: middle;\n",
       "    }\n",
       "\n",
       "    .dataframe tbody tr th {\n",
       "        vertical-align: top;\n",
       "    }\n",
       "\n",
       "    .dataframe thead th {\n",
       "        text-align: right;\n",
       "    }\n",
       "</style>\n",
       "<table border=\"1\" class=\"dataframe\">\n",
       "  <thead>\n",
       "    <tr style=\"text-align: right;\">\n",
       "      <th></th>\n",
       "      <th>Weight</th>\n",
       "      <th>Cholesterol</th>\n",
       "      <th>Gender</th>\n",
       "    </tr>\n",
       "  </thead>\n",
       "  <tbody>\n",
       "    <tr>\n",
       "      <th>count</th>\n",
       "      <td>547.000000</td>\n",
       "      <td>547.000000</td>\n",
       "      <td>547.000000</td>\n",
       "    </tr>\n",
       "    <tr>\n",
       "      <th>mean</th>\n",
       "      <td>143.572212</td>\n",
       "      <td>170.433272</td>\n",
       "      <td>0.513711</td>\n",
       "    </tr>\n",
       "    <tr>\n",
       "      <th>std</th>\n",
       "      <td>30.837275</td>\n",
       "      <td>39.147189</td>\n",
       "      <td>0.500269</td>\n",
       "    </tr>\n",
       "    <tr>\n",
       "      <th>min</th>\n",
       "      <td>95.000000</td>\n",
       "      <td>102.000000</td>\n",
       "      <td>0.000000</td>\n",
       "    </tr>\n",
       "    <tr>\n",
       "      <th>25%</th>\n",
       "      <td>116.000000</td>\n",
       "      <td>136.000000</td>\n",
       "      <td>0.000000</td>\n",
       "    </tr>\n",
       "    <tr>\n",
       "      <th>50%</th>\n",
       "      <td>140.000000</td>\n",
       "      <td>169.000000</td>\n",
       "      <td>1.000000</td>\n",
       "    </tr>\n",
       "    <tr>\n",
       "      <th>75%</th>\n",
       "      <td>171.000000</td>\n",
       "      <td>208.000000</td>\n",
       "      <td>1.000000</td>\n",
       "    </tr>\n",
       "    <tr>\n",
       "      <th>max</th>\n",
       "      <td>203.000000</td>\n",
       "      <td>235.000000</td>\n",
       "      <td>1.000000</td>\n",
       "    </tr>\n",
       "  </tbody>\n",
       "</table>\n",
       "</div>"
      ],
      "text/plain": [
       "           Weight  Cholesterol      Gender\n",
       "count  547.000000   547.000000  547.000000\n",
       "mean   143.572212   170.433272    0.513711\n",
       "std     30.837275    39.147189    0.500269\n",
       "min     95.000000   102.000000    0.000000\n",
       "25%    116.000000   136.000000    0.000000\n",
       "50%    140.000000   169.000000    1.000000\n",
       "75%    171.000000   208.000000    1.000000\n",
       "max    203.000000   235.000000    1.000000"
      ]
     },
     "execution_count": 6,
     "metadata": {},
     "output_type": "execute_result"
    }
   ],
   "source": [
    "df.describe()\n"
   ]
  },
  {
   "cell_type": "markdown",
   "id": "d12d30a6",
   "metadata": {},
   "source": [
    "## Find the number of missing values for each columns\n",
    "### There are no missing values AND Inconsistent datas in this dataFrame"
   ]
  },
  {
   "cell_type": "code",
   "execution_count": 7,
   "id": "0bcd0f76",
   "metadata": {
    "scrolled": true
   },
   "outputs": [
    {
     "data": {
      "text/plain": [
       "Weight         0\n",
       "Cholesterol    0\n",
       "Gender         0\n",
       "dtype: int64"
      ]
     },
     "execution_count": 7,
     "metadata": {},
     "output_type": "execute_result"
    }
   ],
   "source": [
    "df.isna().sum()\n"
   ]
  },
  {
   "cell_type": "code",
   "execution_count": 8,
   "id": "a96bf3f4",
   "metadata": {
    "scrolled": false
   },
   "outputs": [
    {
     "name": "stdout",
     "output_type": "stream",
     "text": [
      "154    11\n",
      "100    11\n",
      "134    10\n",
      "180     9\n",
      "115     9\n",
      "       ..\n",
      "164     1\n",
      "143     1\n",
      "193     1\n",
      "95      1\n",
      "162     1\n",
      "Name: Weight, Length: 106, dtype: int64\n",
      "222    11\n",
      "110    10\n",
      "204    10\n",
      "214     8\n",
      "211     8\n",
      "       ..\n",
      "198     1\n",
      "234     1\n",
      "119     1\n",
      "210     1\n",
      "137     1\n",
      "Name: Cholesterol, Length: 131, dtype: int64\n",
      "1    281\n",
      "0    266\n",
      "Name: Gender, dtype: int64\n"
     ]
    }
   ],
   "source": [
    "print(df[\"Weight\"].value_counts())\n",
    "print(df[\"Cholesterol\"].value_counts())\n",
    "print(df[\"Gender\"].value_counts())\n"
   ]
  },
  {
   "cell_type": "markdown",
   "id": "8b139fe0",
   "metadata": {},
   "source": [
    "## Create Scatter Plot to visualize data points relations "
   ]
  },
  {
   "cell_type": "code",
   "execution_count": 9,
   "id": "505bb257",
   "metadata": {},
   "outputs": [
    {
     "data": {
      "image/png": "[encoded data removed]",
      "text/plain": [
       "<Figure size 1008x864 with 1 Axes>"
      ]
     },
     "metadata": {
      "needs_background": "light"
     },
     "output_type": "display_data"
    }
   ],
   "source": [
    "import matplotlib.pyplot as plt\n",
    "\n",
    "# Filter the dataframe by gender\n",
    "male_df = df[df['Gender'] == 1]\n",
    "female_df = df[df['Gender'] == 0]\n",
    "\n",
    "plt.figure(figsize=(14, 12))\n",
    "# Create a scatter plot for male data points\n",
    "plt.scatter(male_df['Weight'], male_df['Cholesterol'], c='blue', label='Male', s=12)\n",
    "\n",
    "# Create a scatter plot for female data points\n",
    "plt.scatter(female_df['Weight'], female_df['Cholesterol'], c='Orange', label='Female', s=12)\n",
    "\n",
    "plt.xlabel('Weight')\n",
    "plt.ylabel('Cholesterol')\n",
    "plt.title('Scatter Plot')\n",
    "\n",
    "plt.legend()\n",
    "plt.show()\n"
   ]
  },
  {
   "cell_type": "markdown",
   "id": "8e6feff6",
   "metadata": {},
   "source": [
    "# Task 3 : K_Means"
   ]
  },
  {
   "cell_type": "markdown",
   "id": "90cc5121",
   "metadata": {},
   "source": [
    "## sklearn KMeans Clustering"
   ]
  },
  {
   "cell_type": "code",
   "execution_count": 10,
   "id": "8d33af80",
   "metadata": {},
   "outputs": [],
   "source": [
    "from sklearn.cluster import KMeans\n",
    "\n",
    "data = df[['Weight', 'Cholesterol', 'Gender']].values\n",
    "\n",
    "num_clusters = 4\n",
    "\n",
    "kmeans = KMeans(n_clusters=num_clusters)\n",
    "kmeans.fit(data)\n",
    "\n",
    "# Get the cluster assignments for each data point\n",
    "assignments = kmeans.labels_\n",
    "\n",
    "# Calculate the number of items in each cluster\n",
    "cluster_counts = np.bincount(assignments)\n",
    "\n",
    "# Calculate the mean of each cluster\n",
    "cluster_centers = kmeans.cluster_centers_\n"
   ]
  },
  {
   "cell_type": "code",
   "execution_count": 11,
   "id": "6bceeb3d",
   "metadata": {},
   "outputs": [
    {
     "name": "stdout",
     "output_type": "stream",
     "text": [
      "Cluster 1: 118 items, Mean: Weight = 152.093, Cholesterol = 185.907, Gender = 0.441\n",
      "Cluster 2: 135 items, Mean: Weight = 127.726, Cholesterol = 154.385, Gender = 0.459\n",
      "Cluster 3: 154 items, Mean: Weight = 184.318, Cholesterol = 218.916, Gender = 0.591\n",
      "Cluster 4: 140 items, Mean: Weight = 106.850, Cholesterol = 119.536, Gender = 0.543\n",
      "\n",
      "Total Number of Items: 547\n"
     ]
    }
   ],
   "source": [
    "# Print the number of items and mean of each cluster\n",
    "total=0\n",
    "for cluster in range(num_clusters):\n",
    "    count = cluster_counts[cluster]\n",
    "    total+=count\n",
    "    mean = cluster_centers[cluster]\n",
    "    print(f\"Cluster {cluster+1}: {count} items, Mean: Weight = {mean[0]:.3f}, Cholesterol = {mean[1]:.3f}, Gender = {mean[2]:.3f}\")\n",
    "\n",
    "print(f\"\\nTotal Number of Items: {total}\")"
   ]
  },
  {
   "cell_type": "code",
   "execution_count": 12,
   "id": "f86142d0",
   "metadata": {},
   "outputs": [
    {
     "data": {
      "image/png": "[encoded data removed]",
      "text/plain": [
       "<Figure size 432x288 with 1 Axes>"
      ]
     },
     "metadata": {
      "needs_background": "light"
     },
     "output_type": "display_data"
    }
   ],
   "source": [
    "plt.scatter(data[:, 0], data[:, 1], c=assignments, cmap='coolwarm')#viridis\n",
    "plt.scatter(cluster_centers[:, 0], cluster_centers[:, 1], c='black', marker='x', s=100)\n",
    "plt.xlabel('Weight')\n",
    "plt.ylabel('Cholesterol')\n",
    "plt.title('K-means Clustering')\n",
    "plt.show()"
   ]
  },
  {
   "cell_type": "markdown",
   "id": "27d2fc77",
   "metadata": {},
   "source": [
    "# Task 4 : K_Medians"
   ]
  },
  {
   "cell_type": "markdown",
   "id": "78bb1170",
   "metadata": {},
   "source": [
    "## KMedians Clustering Implementation\n",
    "                                "
   ]
  },
  {
   "cell_type": "code",
   "execution_count": 13,
   "id": "6acfd282",
   "metadata": {},
   "outputs": [
    {
     "name": "stdout",
     "output_type": "stream",
     "text": [
      "Cluster 1: 109 items, Mean: Weight = 179.000, Cholesterol = 214.000, Gender = 1.000\n",
      "Cluster 2: 79 items, Mean: Weight = 105.000, Cholesterol = 116.000, Gender = 1.000\n",
      "Cluster 3: 93 items, Mean: Weight = 132.000, Cholesterol = 159.000, Gender = 1.000\n",
      "Cluster 4: 266 items, Mean: Weight = 140.000, Cholesterol = 169.000, Gender = 0.000\n",
      "\n",
      "Total Number of Items: 547\n"
     ]
    }
   ],
   "source": [
    "from sklearn.preprocessing import MinMaxScaler\n",
    "from sklearn.metrics import pairwise_distances_argmin_min\n",
    "\n",
    "def k_medians(X, n_clusters, max_iters=100):\n",
    "    np.random.seed(40)\n",
    "    centers = X[np.random.choice(X.shape[0], n_clusters, replace=False)]\n",
    "    for _ in range(max_iters):\n",
    "        # Assign each sample to the nearest cluster center based on euclidean distance\n",
    "        labels = pairwise_distances_argmin_min(X, centers, metric='euclidean')[0]\n",
    "        # Update cluster centers as medians of the samples in each cluster\n",
    "        new_centers = np.array([np.median(X[labels == i], axis=0) for i in range(n_clusters)])\n",
    "\n",
    "        # Check for convergence\n",
    "        if np.all(centers == new_centers):\n",
    "            break\n",
    "        centers = new_centers\n",
    "    return labels, centers\n",
    "\n",
    "\n",
    "data = df[['Weight', 'Cholesterol', 'Gender']].values\n",
    "\n",
    "scaler = MinMaxScaler()\n",
    "scaled_data = scaler.fit_transform(data)\n",
    "\n",
    "# Set the number of clusters (k)\n",
    "k = 4\n",
    "\n",
    "# Apply k-medians clustering\n",
    "labels, centers = k_medians(scaled_data, k)\n",
    "\n",
    "# Print the number of items and mean of each cluster\n",
    "num_clusters = len(centers)\n",
    "cluster_counts = np.bincount(labels)\n",
    "cluster_centers = scaler.inverse_transform(centers)\n",
    "\n",
    "total = 0\n",
    "for cluster in range(num_clusters):\n",
    "    count = cluster_counts[cluster]\n",
    "    total += count\n",
    "    mean = cluster_centers[cluster]\n",
    "    print(f\"Cluster {cluster+1}: {count} items, Mean: Weight = {mean[0]:.3f}, Cholesterol = {mean[1]:.3f}, Gender = {mean[2]:.3f}\")\n",
    "\n",
    "print(f\"\\nTotal Number of Items: {total}\")"
   ]
  },
  {
   "cell_type": "code",
   "execution_count": 14,
   "id": "76d8525b",
   "metadata": {},
   "outputs": [
    {
     "data": {
      "image/png": "[encoded data removed]",
      "text/plain": [
       "<Figure size 432x288 with 1 Axes>"
      ]
     },
     "metadata": {
      "needs_background": "light"
     },
     "output_type": "display_data"
    }
   ],
   "source": [
    "# Extract the original unscaled data for plotting\n",
    "unscaled_data = scaler.inverse_transform(scaled_data)\n",
    "# Extract the coordinates of the cluster centers\n",
    "unscaled_centers = scaler.inverse_transform(centers)\n",
    "plt.scatter(unscaled_data[:, 0], unscaled_data[:, 1], c=labels)\n",
    "plt.scatter(unscaled_centers[:, 0], unscaled_centers[:, 1], c='red', marker='X', s=100, \n",
    "            label='Cluster Centers')\n",
    "plt.xlabel('Weight')\n",
    "plt.ylabel('Cholesterol')\n",
    "plt.title('K-Medians Clustering')\n",
    "plt.legend()\n",
    "plt.show()"
   ]
  },
  {
   "cell_type": "markdown",
   "id": "081b38c7",
   "metadata": {},
   "source": [
    "# Task 5 : DBSCAN"
   ]
  },
  {
   "cell_type": "code",
   "execution_count": 15,
   "id": "7d8f6ac4",
   "metadata": {
    "scrolled": true
   },
   "outputs": [],
   "source": [
    "from sklearn.preprocessing import StandardScaler\n",
    "from sklearn.cluster import DBSCAN\n",
    "\n",
    "data = df[['Weight', 'Cholesterol', 'Gender']].values\n",
    "\n",
    "# Standardize the features\n",
    "scaler = StandardScaler()\n",
    "scaled_features = scaler.fit_transform(data)\n",
    "\n",
    "dbscan = DBSCAN(eps=0.08, min_samples=10)\n",
    "\n",
    "dbscan.fit(scaled_features)\n",
    "\n",
    "# Retrieve the cluster labels and unique labels\n",
    "labels = dbscan.labels_\n",
    "unique_labels = set(labels) - {-1}\n"
   ]
  },
  {
   "cell_type": "code",
   "execution_count": 16,
   "id": "452ed8e3",
   "metadata": {},
   "outputs": [
    {
     "name": "stdout",
     "output_type": "stream",
     "text": [
      "Cluster 0: 31 items, Mean: Weight = 103.548, Cholesterol = 113.097, Gender = 1.000\n",
      "Cluster 1: 14 items, Mean: Weight = 191.286, Cholesterol = 224.357, Gender = 0.000\n",
      "Cluster 2: 21 items, Mean: Weight = 156.619, Cholesterol = 193.952, Gender = 0.000\n",
      "Cluster 3: 28 items, Mean: Weight = 139.250, Cholesterol = 168.893, Gender = 0.000\n",
      "Cluster 4: 10 items, Mean: Weight = 108.100, Cholesterol = 123.100, Gender = 0.000\n",
      "Cluster 5: 19 items, Mean: Weight = 170.895, Cholesterol = 205.474, Gender = 1.000\n",
      "Cluster 6: 15 items, Mean: Weight = 111.200, Cholesterol = 128.333, Gender = 0.000\n",
      "Cluster 7: 13 items, Mean: Weight = 98.846, Cholesterol = 106.077, Gender = 1.000\n",
      "Cluster 8: 10 items, Mean: Weight = 185.900, Cholesterol = 220.800, Gender = 0.000\n",
      "Cluster 9: 10 items, Mean: Weight = 132.300, Cholesterol = 161.000, Gender = 0.000\n",
      "Cluster 10: 11 items, Mean: Weight = 125.182, Cholesterol = 150.000, Gender = 0.000\n",
      "Cluster 11: 10 items, Mean: Weight = 152.400, Cholesterol = 190.500, Gender = 1.000\n",
      "Cluster 12: 12 items, Mean: Weight = 121.167, Cholesterol = 144.250, Gender = 1.000\n",
      "\n",
      "Total Number of Items: 204\n"
     ]
    }
   ],
   "source": [
    "total = 0\n",
    "for cluster in unique_labels:\n",
    "    count = (labels == cluster).sum()\n",
    "    total += count\n",
    "    cluster_data = data[labels == cluster]\n",
    "    mean = np.mean(cluster_data, axis=0)\n",
    "    \n",
    "    print(f\"Cluster {cluster}: {count} items, Mean: Weight = {mean[0]:.3f}, Cholesterol = {mean[1]:.3f}, Gender = {mean[2]:.3f}\")\n",
    "\n",
    "print(f\"\\nTotal Number of Items: {total}\")"
   ]
  },
  {
   "cell_type": "code",
   "execution_count": 17,
   "id": "91930cbb",
   "metadata": {
    "scrolled": true
   },
   "outputs": [
    {
     "data": {
      "image/png": "[encoded data removed]",
      "text/plain": [
       "<Figure size 432x288 with 1 Axes>"
      ]
     },
     "metadata": {
      "needs_background": "light"
     },
     "output_type": "display_data"
    }
   ],
   "source": [
    "# Compute cluster centers\n",
    "centers = []\n",
    "for cluster in unique_labels:\n",
    "    cluster_data = data[labels == cluster]\n",
    "    cluster_center = np.mean(cluster_data, axis=0)\n",
    "    centers.append(cluster_center)\n",
    "centers = np.array(centers)\n",
    "# Plot the clusters and centers\n",
    "plt.scatter(data[:, 0], data[:, 1], c=labels , cmap='terrain')\n",
    "plt.scatter(centers[:, 0], centers[:, 1], marker='x', c='cyan', s=100, label='Cluster Centers')\n",
    "plt.xlabel('Weight')\n",
    "plt.ylabel('Cholesterol')\n",
    "plt.title('DBSCAN Clustering')\n",
    "plt.legend()\n",
    "plt.show()"
   ]
  },
  {
   "cell_type": "code",
   "execution_count": null,
   "id": "493fb8c2",
   "metadata": {},
   "outputs": [],
   "source": []
  }
 ],
 "metadata": {
  "kernelspec": {
   "display_name": "Python 3 (ipykernel)",
   "language": "python",
   "name": "python3"
  },
  "language_info": {
   "codemirror_mode": {
    "name": "ipython",
    "version": 3
   },
   "file_extension": ".py",
   "mimetype": "text/x-python",
   "name": "python",
   "nbconvert_exporter": "python",
   "pygments_lexer": "ipython3",
   "version": "3.9.12"
  }
 },
 "nbformat": 4,
 "nbformat_minor": 5
}
