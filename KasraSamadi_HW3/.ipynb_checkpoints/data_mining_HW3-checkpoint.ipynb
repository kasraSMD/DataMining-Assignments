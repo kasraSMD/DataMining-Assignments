{
 "cells": [
  {
   "cell_type": "code",
   "execution_count": 1,
   "metadata": {
    "colab": {
     "base_uri": "https://localhost:8080/"
    },
    "id": "Y4KnG6Xfp3GB",
    "outputId": "9ee00f24-575d-473a-bd19-3b7fe085b097",
    "scrolled": true
   },
   "outputs": [
    {
     "name": "stdout",
     "output_type": "stream",
     "text": [
      "Requirement already satisfied: pyclustering in c:\\users\\kasra\\anaconda3\\lib\\site-packages (0.10.1.2)\n",
      "Requirement already satisfied: scipy>=1.1.0 in c:\\users\\kasra\\anaconda3\\lib\\site-packages (from pyclustering) (1.7.3)\n",
      "Requirement already satisfied: matplotlib>=3.0.0 in c:\\users\\kasra\\anaconda3\\lib\\site-packages (from pyclustering) (3.5.1)Note: you may need to restart the kernel to use updated packages.\n",
      "Requirement already satisfied: numpy>=1.15.2 in c:\\users\\kasra\\anaconda3\\lib\\site-packages (from pyclustering) (1.21.5)\n",
      "Requirement already satisfied: Pillow>=5.2.0 in c:\\users\\kasra\\anaconda3\\lib\\site-packages (from pyclustering) (10.2.0)\n",
      "Requirement already satisfied: cycler>=0.10 in c:\\users\\kasra\\anaconda3\\lib\\site-packages (from matplotlib>=3.0.0->pyclustering) (0.11.0)\n",
      "Requirement already satisfied: fonttools>=4.22.0 in c:\\users\\kasra\\anaconda3\\lib\\site-packages (from matplotlib>=3.0.0->pyclustering) (4.25.0)\n",
      "Requirement already satisfied: kiwisolver>=1.0.1 in c:\\users\\kasra\\anaconda3\\lib\\site-packages (from matplotlib>=3.0.0->pyclustering) (1.3.2)\n",
      "Requirement already satisfied: packaging>=20.0 in c:\\users\\kasra\\anaconda3\\lib\\site-packages (from matplotlib>=3.0.0->pyclustering) (21.3)\n",
      "Requirement already satisfied: pyparsing>=2.2.1 in c:\\users\\kasra\\anaconda3\\lib\\site-packages (from matplotlib>=3.0.0->pyclustering) (3.0.4)\n",
      "Requirement already satisfied: python-dateutil>=2.7 in c:\\users\\kasra\\anaconda3\\lib\\site-packages (from matplotlib>=3.0.0->pyclustering) (2.8.2)\n",
      "Requirement already satisfied: six>=1.5 in c:\\users\\kasra\\anaconda3\\lib\\site-packages (from python-dateutil>=2.7->matplotlib>=3.0.0->pyclustering) (1.16.0)\n",
      "Could not fetch URL https://pypi.org/simple/pip/: There was a problem confirming the ssl certificate: HTTPSConnectionPool(host='pypi.org', port=443): Max retries exceeded with url: /simple/pip/ (Caused by SSLError(SSLEOFError(8, 'EOF occurred in violation of protocol (_ssl.c:1129)'))) - skipping\n",
      "\n"
     ]
    }
   ],
   "source": [
    "pip install pyclustering"
   ]
  },
  {
   "cell_type": "code",
   "execution_count": 2,
   "metadata": {
    "id": "rqFODQexiE8y"
   },
   "outputs": [],
   "source": [
    "from sklearn.cluster import KMeans\n",
    "from sklearn.metrics import silhouette_score\n",
    "from pyclustering.cluster.kmedians import kmedians\n",
    "from pyclustering.cluster.dbscan import dbscan\n",
    "from pyclustering.utils import read_sample\n",
    "from pyclustering.cluster import cluster_visualizer\n",
    "from pyclustering.utils.metric import distance_metric, type_metric\n",
    "from pyclustering.cluster.kmeans import kmeans\n",
    "from pyclustering.samples.definitions import SIMPLE_SAMPLES\n",
    "import matplotlib.pyplot as plt\n",
    "import pandas as pd\n",
    "import numpy as np"
   ]
  },
  {
   "cell_type": "code",
   "execution_count": 3,
   "metadata": {
    "id": "Tuj_DKwipsnm"
   },
   "outputs": [],
   "source": [
    "data = pd.read_csv('data set-4.csv')"
   ]
  },
  {
   "cell_type": "code",
   "execution_count": 4,
   "metadata": {
    "colab": {
     "base_uri": "https://localhost:8080/"
    },
    "id": "gVyT6hMnhhSz",
    "outputId": "002290aa-f467-4a5f-fca4-6a35a99fd1f9"
   },
   "outputs": [
    {
     "name": "stdout",
     "output_type": "stream",
     "text": [
      "Index(['Weight', 'Cholesterol', 'Gender'], dtype='object')\n"
     ]
    }
   ],
   "source": [
    "print(data.columns)"
   ]
  },
  {
   "cell_type": "code",
   "execution_count": 5,
   "metadata": {
    "id": "9p7t0Ee1sGbn"
   },
   "outputs": [],
   "source": [
    "data_array = data.to_numpy()"
   ]
  },
  {
   "cell_type": "code",
   "execution_count": 6,
   "metadata": {
    "id": "E7zSkm7BtPMN"
   },
   "outputs": [],
   "source": [
    "num_clusters = 4\n",
    "initial_medians = data_array[np.random.choice(range(len(data_array)), num_clusters)]"
   ]
  },
  {
   "cell_type": "code",
   "execution_count": 7,
   "metadata": {
    "colab": {
     "base_uri": "https://localhost:8080/"
    },
    "id": "ybrSTsyZtRbH",
    "outputId": "e10a4572-aecc-4614-9fcb-69e0616db3d6"
   },
   "outputs": [
    {
     "data": {
      "text/plain": [
       "<pyclustering.cluster.kmedians.kmedians at 0x1b74b166f40>"
      ]
     },
     "execution_count": 7,
     "metadata": {},
     "output_type": "execute_result"
    }
   ],
   "source": [
    "kmedians_instance = kmedians(data_array, initial_medians, ccore=True)\n",
    "kmedians_instance.process()"
   ]
  },
  {
   "cell_type": "code",
   "execution_count": 8,
   "metadata": {
    "id": "B_i4-YRrtVPl"
   },
   "outputs": [],
   "source": [
    "clusters = kmedians_instance.get_clusters()\n",
    "centers = kmedians_instance.get_medians()"
   ]
  },
  {
   "cell_type": "code",
   "execution_count": 9,
   "metadata": {
    "colab": {
     "base_uri": "https://localhost:8080/"
    },
    "id": "fEpK7UCzaT4H",
    "outputId": "e4509da0-d0a2-44be-ccd0-f62400d07a13"
   },
   "outputs": [
    {
     "name": "stdout",
     "output_type": "stream",
     "text": [
      "[[247, 281, 30, 312, 285, 17, 82, 170, 166, 396, 154, 511, 400, 39, 515, 51, 55, 527, 171, 286, 401, 297, 412, 182, 473, 516, 418, 358, 188, 243, 303, 320, 365, 56, 128, 67, 533, 363, 480, 135, 133, 205, 13, 73, 435, 295, 410, 250, 327, 212, 377, 478, 168, 90, 283, 291, 176, 144, 492, 262, 248, 20, 489, 147, 525, 180, 374, 18, 501, 442, 521, 32, 406, 156, 513, 398, 386, 259, 65, 61, 271, 122, 174, 519, 467, 97, 352, 53, 330, 29, 215, 41, 289, 546, 431, 445, 316, 237, 201, 404, 100, 452, 7, 59, 337, 202, 233, 348, 86, 483, 317], [368, 463, 222, 118, 491, 294, 107, 184, 529, 179, 138, 146, 253, 524, 432, 261, 409, 23, 87, 376, 3, 299, 64, 507, 414, 162, 31, 364, 392, 249, 69, 134, 301, 531, 277, 186, 416, 390, 225, 160, 479, 455, 340, 47, 349, 153, 275, 325, 119, 440, 210, 19, 234, 464, 163, 302, 417, 187, 71, 505, 278, 508, 268, 532, 110, 383, 498, 4, 72, 45, 393, 326, 95, 543, 173, 38, 359, 198, 433, 129, 474, 48, 313, 211, 518, 244, 403, 428, 309, 424, 536, 421, 83, 306, 191, 457, 288, 441, 14, 318, 539, 203, 58, 194, 227, 96, 88, 300, 540, 79, 185, 425, 342, 310, 76, 112, 415, 530, 195, 387, 430, 70, 157, 165, 200, 448, 333, 272, 315, 510, 117, 545, 395], [116, 232, 80, 218, 502, 462, 103, 423, 405, 308, 311, 175, 231, 346, 347, 42, 451, 236, 426, 290, 280, 85, 461, 221, 121, 193, 541, 466, 50, 520, 2, 1, 196, 336, 169, 351, 399, 538, 148, 6, 246, 78, 81, 106, 493, 60, 378, 141, 434, 514, 131, 251, 136, 481, 476, 284, 263, 256, 380, 486, 150, 361, 322, 366, 54, 207, 458, 371, 509, 228, 319, 204, 33, 16, 279, 470, 495, 394, 89, 26, 437, 240, 343, 265, 164, 21, 355, 444, 125, 329, 544, 35, 92, 411, 453, 314, 49, 113, 296, 526, 407, 190, 429, 214, 10, 181, 345, 305, 292, 217, 460, 115, 199, 535, 230, 522, 177, 223, 99, 338, 84, 0, 332, 66, 108, 420, 447, 472, 267, 382, 254, 328, 439, 443, 213, 102, 152, 62, 75, 208, 242, 323, 497, 324, 438, 357, 209, 484, 93, 98, 139, 127, 369, 37, 94, 12, 24], [216, 482, 331, 120, 137, 367, 252, 235, 151, 270, 446, 496, 500, 465, 350, 101, 22, 385, 5, 155, 266, 40, 273, 503, 381, 388, 158, 238, 36, 142, 487, 372, 43, 123, 413, 353, 126, 468, 257, 298, 8, 241, 183, 321, 356, 27, 528, 436, 471, 537, 422, 469, 239, 354, 11, 512, 307, 282, 206, 124, 68, 485, 192, 9, 140, 161, 370, 506, 255, 77, 91, 276, 397, 391, 167, 419, 226, 52, 494, 46, 25, 341, 130, 293, 334, 475, 450, 304, 189, 449, 219, 534, 335, 149, 245, 523, 264, 220, 408, 360, 456, 74, 459, 178, 229, 379, 105, 111, 104, 454, 34, 15, 63, 344, 373, 488, 224, 339, 114, 258, 402, 143, 287, 109, 28, 389, 504, 197, 132, 145, 362, 517, 274, 542, 427, 375, 159, 477, 384, 172, 260, 490, 499, 57, 44, 269]]\n",
      "[[154.0, 187.0, 0.0], [131.0, 159.0, 0.0], [108.0, 123.0, 0.0], [184.0, 225.5, 1.0]]\n"
     ]
    }
   ],
   "source": [
    "print(clusters)\n",
    "print(centers)"
   ]
  },
  {
   "cell_type": "code",
   "execution_count": 10,
   "metadata": {
    "colab": {
     "base_uri": "https://localhost:8080/",
     "height": 469
    },
    "id": "3rxgapO4hqDM",
    "outputId": "1596c5aa-cee6-48e4-d6d5-379d826a3e29"
   },
   "outputs": [
    {
     "ename": "NameError",
     "evalue": "name 'color_map' is not defined",
     "output_type": "error",
     "traceback": [
      "\u001b[1;31m---------------------------------------------------------------------------\u001b[0m",
      "\u001b[1;31mNameError\u001b[0m                                 Traceback (most recent call last)",
      "Input \u001b[1;32mIn [10]\u001b[0m, in \u001b[0;36m<cell line: 9>\u001b[1;34m()\u001b[0m\n\u001b[0;32m     13\u001b[0m weight \u001b[38;5;241m=\u001b[39m [data_array[j][\u001b[38;5;241m2\u001b[39m] \u001b[38;5;28;01mfor\u001b[39;00m j \u001b[38;5;129;01min\u001b[39;00m cluster]\n\u001b[0;32m     15\u001b[0m \u001b[38;5;66;03m# تنظیم رنگ دسته\u001b[39;00m\n\u001b[1;32m---> 16\u001b[0m color \u001b[38;5;241m=\u001b[39m \u001b[43mcolor_map\u001b[49m(i)\n\u001b[0;32m     18\u001b[0m \u001b[38;5;66;03m# نمایش داده‌ها با رنگ و سایز مناسب\u001b[39;00m\n\u001b[0;32m     19\u001b[0m ax\u001b[38;5;241m.\u001b[39mscatter(gender, cholesterol, weight, c\u001b[38;5;241m=\u001b[39mcolor, label\u001b[38;5;241m=\u001b[39m\u001b[38;5;124mf\u001b[39m\u001b[38;5;124m'\u001b[39m\u001b[38;5;124mCluster \u001b[39m\u001b[38;5;132;01m{\u001b[39;00mi\u001b[38;5;241m+\u001b[39m\u001b[38;5;241m1\u001b[39m\u001b[38;5;132;01m}\u001b[39;00m\u001b[38;5;124m'\u001b[39m)\n",
      "\u001b[1;31mNameError\u001b[0m: name 'color_map' is not defined"
     ]
    },
    {
     "data": {
      "image/png": "[encoded data removed]",
      "text/plain": [
       "<Figure size 432x288 with 1 Axes>"
      ]
     },
     "metadata": {
      "needs_background": "light"
     },
     "output_type": "display_data"
    }
   ],
   "source": [
    "import matplotlib.pyplot as plt\n",
    "from mpl_toolkits.mplot3d import Axes3D\n",
    "\n",
    "# ایجاد شیء فیگور و سه بعدی کردن آن\n",
    "fig = plt.figure()\n",
    "ax = fig.add_subplot(111, projection='3d')\n",
    "\n",
    "# نمایش داده‌ها\n",
    "for i, cluster in enumerate(clusters):\n",
    "    # استخراج ویژگی‌ها\n",
    "    gender = [data_array[j][0] for j in cluster]\n",
    "    cholesterol = [data_array[j][1] for j in cluster]\n",
    "    weight = [data_array[j][2] for j in cluster]\n",
    "\n",
    "    # تنظیم رنگ دسته\n",
    "    color = color_map(i)\n",
    "\n",
    "    # نمایش داده‌ها با رنگ و سایز مناسب\n",
    "    ax.scatter(gender, cholesterol, weight, c=color, label=f'Cluster {i+1}')\n",
    "\n",
    "    # نمایش مرکز دسته\n",
    "    center = centers[i]\n",
    "    ax.scatter(center[0], center[1], center[2], marker='*', s=100, c='black')\n",
    "\n",
    "# تنظیم محورها و برچسب‌ها\n",
    "ax.set_xlabel('Weight')\n",
    "ax.set_ylabel('Cholesterol')\n",
    "ax.set_zlabel('Gender')\n",
    "plt.legend()\n",
    "\n",
    "# نمایش نمودار سه بعدی\n",
    "plt.show()"
   ]
  },
  {
   "cell_type": "code",
   "execution_count": null,
   "metadata": {
    "id": "f71OmCA2KJKk"
   },
   "outputs": [],
   "source": [
    "num_clusters = 4\n",
    "metric = distance_metric(type_metric.EUCLIDEAN)"
   ]
  },
  {
   "cell_type": "code",
   "execution_count": null,
   "metadata": {
    "id": "Mll7Oe7TKw9L"
   },
   "outputs": [],
   "source": [
    "import random\n",
    "initial_indices = random.sample(range(data_array.shape[0]), num_clusters)\n",
    "initial_centers = data_array[initial_indices]"
   ]
  },
  {
   "cell_type": "code",
   "execution_count": null,
   "metadata": {
    "colab": {
     "base_uri": "https://localhost:8080/"
    },
    "id": "JqJIu8WAKzSn",
    "outputId": "1be61c81-3819-4893-94ba-eb929918d962"
   },
   "outputs": [],
   "source": [
    "kmeans_instance = kmeans(data_array, initial_centers, metric=metric)\n",
    "kmeans_instance.process()"
   ]
  },
  {
   "cell_type": "code",
   "execution_count": null,
   "metadata": {
    "id": "zTv3gLTfK1zk"
   },
   "outputs": [],
   "source": [
    "clusters = kmeans_instance.get_clusters()\n",
    "centers = kmeans_instance.get_centers()"
   ]
  },
  {
   "cell_type": "code",
   "execution_count": null,
   "metadata": {
    "colab": {
     "base_uri": "https://localhost:8080/"
    },
    "id": "N4rFyTRHZ-2k",
    "outputId": "c62a1610-e88d-47cb-eb57-3b9fcc06e135"
   },
   "outputs": [],
   "source": [
    "print(clusters)\n",
    "print(centers)"
   ]
  },
  {
   "cell_type": "code",
   "execution_count": null,
   "metadata": {
    "colab": {
     "base_uri": "https://localhost:8080/",
     "height": 469
    },
    "id": "bzeYJHaEUcsh",
    "outputId": "d272534b-31e0-4515-a93a-46ff6f198940"
   },
   "outputs": [],
   "source": [
    "import matplotlib.pyplot as plt\n",
    "from mpl_toolkits.mplot3d import Axes3D\n",
    "\n",
    "# ایجاد شیء فیگور و سه بعدی کردن آن\n",
    "fig = plt.figure()\n",
    "ax = fig.add_subplot(111, projection='3d')\n",
    "\n",
    "# نمایش داده‌ها\n",
    "for i, cluster in enumerate(clusters):\n",
    "    # استخراج ویژگی‌ها\n",
    "    gender = [data_array[j][0] for j in cluster]\n",
    "    cholesterol = [data_array[j][1] for j in cluster]\n",
    "    weight = [data_array[j][2] for j in cluster]\n",
    "\n",
    "    # تنظیم رنگ دسته\n",
    "    color = color_map(i)\n",
    "\n",
    "    # نمایش داده‌ها با رنگ و سایز مناسب\n",
    "    ax.scatter(gender, cholesterol, weight, c=color, label=f'Cluster {i+1}')\n",
    "\n",
    "    # نمایش مرکز دسته\n",
    "    center = centers[i]\n",
    "    ax.scatter(center[0], center[1], center[2], marker='*', s=100, c='black')\n",
    "\n",
    "# تنظیم محورها و برچسب‌ها\n",
    "ax.set_xlabel('Weight')\n",
    "ax.set_ylabel('Cholesterol')\n",
    "ax.set_zlabel('Gender')\n",
    "plt.legend()\n",
    "\n",
    "# نمایش نمودار سه بعدی\n",
    "plt.show()"
   ]
  },
  {
   "cell_type": "code",
   "execution_count": null,
   "metadata": {
    "id": "4_Z1qyMCpGMu"
   },
   "outputs": [],
   "source": [
    "epsilon = 0.3\n",
    "min_samples = 10"
   ]
  },
  {
   "cell_type": "code",
   "execution_count": null,
   "metadata": {
    "id": "7XMoPgEyqIC4"
   },
   "outputs": [],
   "source": [
    "dbscan_instance = dbscan(data.values, epsilon, min_samples)\n",
    "dbscan_instance.process()\n",
    "clusters = dbscan_instance.get_clusters()\n",
    "noise = dbscan_instance.get_noise()"
   ]
  },
  {
   "cell_type": "code",
   "execution_count": null,
   "metadata": {
    "colab": {
     "base_uri": "https://localhost:8080/",
     "height": 436
    },
    "id": "EN7DwP6PqIKo",
    "outputId": "e14f0d29-f5c5-4e5f-8437-5b3db4f801b6"
   },
   "outputs": [],
   "source": [
    "# ترسیم نمودار سه بعدی\n",
    "fig = plt.figure()\n",
    "ax = fig.add_subplot(111, projection='3d')\n",
    "\n",
    "# ترسیم داده‌های هر خوشه و نقاط مرکزی آن\n",
    "for i, cluster in enumerate(clusters):\n",
    "    cluster_points = np.array(cluster)\n",
    "    ax.scatter(data_array[cluster_points, 0], data_array[cluster_points, 1], data_array[cluster_points, 2], label=f'Cluster {i+1}')\n",
    "\n",
    "    # محاسبه نقطه مرکزی هر دسته\n",
    "    center = np.mean(data_array[cluster_points], axis=0)\n",
    "    ax.scatter(center[0], center[1], center[2], c='black', marker='*', s=200)\n",
    "\n",
    "# ترسیم داده‌هایی که به عنوان نویز تشخیص داده شده‌اند\n",
    "if noise:\n",
    "    noise_points = np.array(noise)\n",
    "    ax.scatter(data_array[noise_points, 0], data_array[noise_points, 1], data_array[noise_points, 2], c='black', marker='x', label='Noise')\n",
    "\n",
    "ax.set_xlabel('Weight')\n",
    "ax.set_ylabel('Cholesterol')\n",
    "ax.set_zlabel('Gender')\n",
    "ax.set_title('DBSCAN Clustering Result')\n",
    "ax.legend()\n",
    "\n",
    "plt.show()"
   ]
  }
 ],
 "metadata": {
  "colab": {
   "provenance": []
  },
  "kernelspec": {
   "display_name": "Python 3 (ipykernel)",
   "language": "python",
   "name": "python3"
  },
  "language_info": {
   "codemirror_mode": {
    "name": "ipython",
    "version": 3
   },
   "file_extension": ".py",
   "mimetype": "text/x-python",
   "name": "python",
   "nbconvert_exporter": "python",
   "pygments_lexer": "ipython3",
   "version": "3.9.12"
  }
 },
 "nbformat": 4,
 "nbformat_minor": 1
}
