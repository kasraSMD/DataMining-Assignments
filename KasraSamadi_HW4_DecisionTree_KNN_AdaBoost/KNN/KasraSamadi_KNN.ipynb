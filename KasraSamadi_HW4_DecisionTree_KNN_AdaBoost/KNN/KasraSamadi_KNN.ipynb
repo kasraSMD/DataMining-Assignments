{
 "cells": [
  {
   "cell_type": "markdown",
   "id": "e0917cfa",
   "metadata": {},
   "source": [
    "# Kasra Samadi 993623030 \n",
    "# HW4 DataMining\n",
    "# KNN"
   ]
  },
  {
   "cell_type": "markdown",
   "id": "36a63b20",
   "metadata": {},
   "source": [
    "## Tasks : \n",
    "### 1- Downloading Iris Data Set\n",
    "### 2- Obtaining information (#Rows, #Columns, Types of Columns, Missing values)\n",
    "### 3- Pre-processing\n",
    "### 4- KNN\n",
    "### 5- Evaluation and Confusion matrix\n"
   ]
  },
  {
   "cell_type": "markdown",
   "id": "c69e6e25",
   "metadata": {},
   "source": [
    "# Task 1 \n",
    "### Downloading Iris Train and Iris Test"
   ]
  },
  {
   "cell_type": "markdown",
   "id": "78c859a4",
   "metadata": {},
   "source": [
    "## Import libraries"
   ]
  },
  {
   "cell_type": "code",
   "execution_count": 1,
   "id": "b8265ecd",
   "metadata": {},
   "outputs": [],
   "source": [
    "import numpy as np\n",
    "import pandas as pd\n",
    "import seaborn as sns\n",
    "from sklearn import preprocessing"
   ]
  },
  {
   "cell_type": "markdown",
   "id": "950a069b",
   "metadata": {},
   "source": [
    "## Reading Iris_train.csv and Iris_test.csv"
   ]
  },
  {
   "cell_type": "code",
   "execution_count": 2,
   "id": "22611acf",
   "metadata": {},
   "outputs": [],
   "source": [
    "df_train = pd.read_csv(\"Iris_train.csv\")\n",
    "df_test = pd.read_csv(\"Iris_test.csv\")"
   ]
  },
  {
   "cell_type": "code",
   "execution_count": 3,
   "id": "ee4b415a",
   "metadata": {},
   "outputs": [
    {
     "data": {
      "text/html": [
       "<div>\n",
       "<style scoped>\n",
       "    .dataframe tbody tr th:only-of-type {\n",
       "        vertical-align: middle;\n",
       "    }\n",
       "\n",
       "    .dataframe tbody tr th {\n",
       "        vertical-align: top;\n",
       "    }\n",
       "\n",
       "    .dataframe thead th {\n",
       "        text-align: right;\n",
       "    }\n",
       "</style>\n",
       "<table border=\"1\" class=\"dataframe\">\n",
       "  <thead>\n",
       "    <tr style=\"text-align: right;\">\n",
       "      <th></th>\n",
       "      <th>Id</th>\n",
       "      <th>SepalLengthCm</th>\n",
       "      <th>SepalWidthCm</th>\n",
       "      <th>PetalLengthCm</th>\n",
       "      <th>PetalWidthCm</th>\n",
       "      <th>Species</th>\n",
       "    </tr>\n",
       "  </thead>\n",
       "  <tbody>\n",
       "    <tr>\n",
       "      <th>0</th>\n",
       "      <td>85</td>\n",
       "      <td>5.4</td>\n",
       "      <td>3.0</td>\n",
       "      <td>4.5</td>\n",
       "      <td>1.5</td>\n",
       "      <td>Iris-versicolor</td>\n",
       "    </tr>\n",
       "    <tr>\n",
       "      <th>1</th>\n",
       "      <td>123</td>\n",
       "      <td>7.7</td>\n",
       "      <td>2.8</td>\n",
       "      <td>6.7</td>\n",
       "      <td>2.0</td>\n",
       "      <td>Iris-virginica</td>\n",
       "    </tr>\n",
       "    <tr>\n",
       "      <th>2</th>\n",
       "      <td>29</td>\n",
       "      <td>5.2</td>\n",
       "      <td>3.4</td>\n",
       "      <td>1.4</td>\n",
       "      <td>0.2</td>\n",
       "      <td>Iris-setosa</td>\n",
       "    </tr>\n",
       "    <tr>\n",
       "      <th>3</th>\n",
       "      <td>25</td>\n",
       "      <td>4.8</td>\n",
       "      <td>3.4</td>\n",
       "      <td>1.9</td>\n",
       "      <td>0.2</td>\n",
       "      <td>Iris-setosa</td>\n",
       "    </tr>\n",
       "    <tr>\n",
       "      <th>4</th>\n",
       "      <td>76</td>\n",
       "      <td>6.6</td>\n",
       "      <td>3.0</td>\n",
       "      <td>4.4</td>\n",
       "      <td>1.4</td>\n",
       "      <td>Iris-versicolor</td>\n",
       "    </tr>\n",
       "  </tbody>\n",
       "</table>\n",
       "</div>"
      ],
      "text/plain": [
       "    Id  SepalLengthCm  SepalWidthCm  PetalLengthCm  PetalWidthCm  \\\n",
       "0   85            5.4           3.0            4.5           1.5   \n",
       "1  123            7.7           2.8            6.7           2.0   \n",
       "2   29            5.2           3.4            1.4           0.2   \n",
       "3   25            4.8           3.4            1.9           0.2   \n",
       "4   76            6.6           3.0            4.4           1.4   \n",
       "\n",
       "           Species  \n",
       "0  Iris-versicolor  \n",
       "1   Iris-virginica  \n",
       "2      Iris-setosa  \n",
       "3      Iris-setosa  \n",
       "4  Iris-versicolor  "
      ]
     },
     "execution_count": 3,
     "metadata": {},
     "output_type": "execute_result"
    }
   ],
   "source": [
    "df_train.head()"
   ]
  },
  {
   "cell_type": "markdown",
   "id": "38b05c84",
   "metadata": {},
   "source": [
    "# Task 2\n",
    "### Obtaining information"
   ]
  },
  {
   "cell_type": "code",
   "execution_count": 4,
   "id": "ce3d8380",
   "metadata": {
    "scrolled": true
   },
   "outputs": [
    {
     "data": {
      "text/plain": [
       "(120, 6)"
      ]
     },
     "execution_count": 4,
     "metadata": {},
     "output_type": "execute_result"
    }
   ],
   "source": [
    "df_train.shape"
   ]
  },
  {
   "cell_type": "code",
   "execution_count": 5,
   "id": "b76b008d",
   "metadata": {},
   "outputs": [
    {
     "data": {
      "text/plain": [
       "(30, 6)"
      ]
     },
     "execution_count": 5,
     "metadata": {},
     "output_type": "execute_result"
    }
   ],
   "source": [
    "df_test.shape"
   ]
  },
  {
   "cell_type": "markdown",
   "id": "e76eebe2",
   "metadata": {},
   "source": [
    "## Find columns names and their types"
   ]
  },
  {
   "cell_type": "code",
   "execution_count": 6,
   "id": "d6424022",
   "metadata": {},
   "outputs": [
    {
     "data": {
      "text/plain": [
       "Id                 int64\n",
       "SepalLengthCm    float64\n",
       "SepalWidthCm     float64\n",
       "PetalLengthCm    float64\n",
       "PetalWidthCm     float64\n",
       "Species           object\n",
       "dtype: object"
      ]
     },
     "execution_count": 6,
     "metadata": {},
     "output_type": "execute_result"
    }
   ],
   "source": [
    "df_train.dtypes"
   ]
  },
  {
   "cell_type": "markdown",
   "id": "e8ef9195",
   "metadata": {},
   "source": [
    "## Check Missing values"
   ]
  },
  {
   "cell_type": "code",
   "execution_count": 7,
   "id": "0bcd0f76",
   "metadata": {
    "scrolled": true
   },
   "outputs": [
    {
     "data": {
      "text/plain": [
       "(Id               0\n",
       " SepalLengthCm    0\n",
       " SepalWidthCm     0\n",
       " PetalLengthCm    0\n",
       " PetalWidthCm     0\n",
       " Species          0\n",
       " dtype: int64,\n",
       " Id               0\n",
       " SepalLengthCm    0\n",
       " SepalWidthCm     0\n",
       " PetalLengthCm    0\n",
       " PetalWidthCm     0\n",
       " Species          0\n",
       " dtype: int64)"
      ]
     },
     "execution_count": 7,
     "metadata": {},
     "output_type": "execute_result"
    }
   ],
   "source": [
    "df_train.isna().sum() , df_train.isna().sum()"
   ]
  },
  {
   "cell_type": "markdown",
   "id": "36ecdeab",
   "metadata": {},
   "source": [
    "# Task 3 \n",
    "### Pre-processing"
   ]
  },
  {
   "cell_type": "markdown",
   "id": "c01de880",
   "metadata": {},
   "source": [
    "#### X as the Feature Matrix \n",
    "####  y as the response vector (target)"
   ]
  },
  {
   "cell_type": "code",
   "execution_count": 8,
   "id": "d28bfa55",
   "metadata": {
    "scrolled": true
   },
   "outputs": [
    {
     "data": {
      "text/plain": [
       "array([[5.4, 3. , 4.5, 1.5],\n",
       "       [7.7, 2.8, 6.7, 2. ],\n",
       "       [5.2, 3.4, 1.4, 0.2],\n",
       "       [4.8, 3.4, 1.9, 0.2],\n",
       "       [6.6, 3. , 4.4, 1.4]])"
      ]
     },
     "execution_count": 8,
     "metadata": {},
     "output_type": "execute_result"
    }
   ],
   "source": [
    "X_train = df_train[['SepalLengthCm', 'SepalWidthCm','PetalLengthCm', 'PetalWidthCm']] .values\n",
    "X_train[0:5]"
   ]
  },
  {
   "cell_type": "code",
   "execution_count": 9,
   "id": "dcf0115f",
   "metadata": {},
   "outputs": [
    {
     "data": {
      "text/plain": [
       "array(['Iris-versicolor', 'Iris-virginica', 'Iris-setosa', 'Iris-setosa',\n",
       "       'Iris-versicolor'], dtype=object)"
      ]
     },
     "execution_count": 9,
     "metadata": {},
     "output_type": "execute_result"
    }
   ],
   "source": [
    "y_train = df_train['Species'].values\n",
    "y_train[0:5]"
   ]
  },
  {
   "cell_type": "code",
   "execution_count": 10,
   "id": "7465b89a",
   "metadata": {},
   "outputs": [
    {
     "data": {
      "text/plain": [
       "array([[4.9, 3. , 1.4, 0.2],\n",
       "       [5. , 3.4, 1.5, 0.2],\n",
       "       [5.8, 4. , 1.2, 0.2],\n",
       "       [5.4, 3.9, 1.3, 0.4],\n",
       "       [5.1, 3.3, 1.7, 0.5]])"
      ]
     },
     "execution_count": 10,
     "metadata": {},
     "output_type": "execute_result"
    }
   ],
   "source": [
    "X_test = df_test[['SepalLengthCm', 'SepalWidthCm','PetalLengthCm', 'PetalWidthCm']] .values\n",
    "X_test[0:5]"
   ]
  },
  {
   "cell_type": "code",
   "execution_count": 11,
   "id": "316843ca",
   "metadata": {},
   "outputs": [
    {
     "data": {
      "text/plain": [
       "array(['Iris-setosa', 'Iris-setosa', 'Iris-setosa', 'Iris-setosa',\n",
       "       'Iris-setosa'], dtype=object)"
      ]
     },
     "execution_count": 11,
     "metadata": {},
     "output_type": "execute_result"
    }
   ],
   "source": [
    "y_test = df_test['Species'].values\n",
    "y_test[0:5]"
   ]
  },
  {
   "cell_type": "markdown",
   "id": "52b7b815",
   "metadata": {},
   "source": [
    "### Normalize Data"
   ]
  },
  {
   "cell_type": "code",
   "execution_count": 12,
   "id": "686ff72f",
   "metadata": {},
   "outputs": [
    {
     "data": {
      "text/plain": [
       "array([[-0.48444978, -0.11986112,  0.45640414,  0.44097878],\n",
       "       [ 2.27811507, -0.5693403 ,  1.69857623,  1.09107034],\n",
       "       [-0.72467281,  0.77909726, -1.29392926, -1.24925929],\n",
       "       [-1.20511887,  0.77909726, -1.01161742, -1.24925929],\n",
       "       [ 0.9568884 , -0.11986112,  0.39994177,  0.31096046]])"
      ]
     },
     "execution_count": 12,
     "metadata": {},
     "output_type": "execute_result"
    }
   ],
   "source": [
    "X_train = preprocessing.StandardScaler().fit(X_train).transform(X_train.astype(float))\n",
    "X_test = preprocessing.StandardScaler().fit(X_test).transform(X_test.astype(float))\n",
    "X_train[0:5]"
   ]
  },
  {
   "cell_type": "markdown",
   "id": "d7de8700",
   "metadata": {},
   "source": [
    "# Task 4\n",
    "### KNN"
   ]
  },
  {
   "cell_type": "markdown",
   "id": "e9372910",
   "metadata": {},
   "source": [
    "#### Modeling\n",
    "Classifier implementing the k-nearest neighbors vote"
   ]
  },
  {
   "cell_type": "code",
   "execution_count": 13,
   "id": "d3f7e864",
   "metadata": {},
   "outputs": [
    {
     "data": {
      "text/plain": [
       "KNeighborsClassifier()"
      ]
     },
     "execution_count": 13,
     "metadata": {},
     "output_type": "execute_result"
    }
   ],
   "source": [
    "from sklearn.neighbors import KNeighborsClassifier\n",
    "k = 5\n",
    "#Train Model\n",
    "neigh = KNeighborsClassifier(n_neighbors = k).fit(X_train,y_train)\n",
    "neigh"
   ]
  },
  {
   "cell_type": "markdown",
   "id": "4092b0b7",
   "metadata": {},
   "source": [
    "#### Prediction\n"
   ]
  },
  {
   "cell_type": "code",
   "execution_count": 14,
   "id": "4ce88f6c",
   "metadata": {},
   "outputs": [
    {
     "data": {
      "text/plain": [
       "array(['Iris-setosa', 'Iris-setosa', 'Iris-setosa', 'Iris-setosa',\n",
       "       'Iris-setosa'], dtype=object)"
      ]
     },
     "execution_count": 14,
     "metadata": {},
     "output_type": "execute_result"
    }
   ],
   "source": [
    "y_pred = neigh.predict(X_test)\n",
    "y_pred[0:5]"
   ]
  },
  {
   "cell_type": "markdown",
   "id": "519d6430",
   "metadata": {},
   "source": [
    "# Task 5 \n",
    "#### Evaluation and Confusion matrix"
   ]
  },
  {
   "cell_type": "code",
   "execution_count": 15,
   "id": "62c15038",
   "metadata": {},
   "outputs": [
    {
     "name": "stdout",
     "output_type": "stream",
     "text": [
      "KNN's Accuracy: 0.8666666666666667\n",
      "KNN's F1 score: 0.8644444444444445\n",
      "KNN's Recall score:  0.8666666666666667\n",
      "KNN's Precision score:  0.9047619047619048\n"
     ]
    }
   ],
   "source": [
    "from sklearn.metrics import f1_score, recall_score, precision_score, accuracy_score, confusion_matrix\n",
    "print(\"KNN's Accuracy:\", accuracy_score(y_test, y_pred))\n",
    "print(\"KNN's F1 score:\", f1_score(y_test, y_pred, average='weighted'))\n",
    "print(\"KNN's Recall score: \", recall_score(y_test, y_pred, average='weighted'))\n",
    "print(\"KNN's Precision score: \", precision_score(y_test, y_pred, average='weighted'))"
   ]
  },
  {
   "cell_type": "markdown",
   "id": "c4f7649a",
   "metadata": {},
   "source": [
    "#### Confusion matrix"
   ]
  },
  {
   "cell_type": "code",
   "execution_count": 16,
   "id": "0f759d40",
   "metadata": {},
   "outputs": [
    {
     "data": {
      "text/plain": [
       "<AxesSubplot:>"
      ]
     },
     "execution_count": 16,
     "metadata": {},
     "output_type": "execute_result"
    },
    {
     "data": {
      "image/png": "[encoded data removed]",
      "text/plain": [
       "<Figure size 432x288 with 2 Axes>"
      ]
     },
     "metadata": {
      "needs_background": "light"
     },
     "output_type": "display_data"
    }
   ],
   "source": [
    "con_matrix=confusion_matrix(y_test, y_pred)\n",
    "sns.heatmap(con_matrix,annot=True, cmap=\"Greens\")"
   ]
  }
 ],
 "metadata": {
  "kernelspec": {
   "display_name": "Python 3 (ipykernel)",
   "language": "python",
   "name": "python3"
  },
  "language_info": {
   "codemirror_mode": {
    "name": "ipython",
    "version": 3
   },
   "file_extension": ".py",
   "mimetype": "text/x-python",
   "name": "python",
   "nbconvert_exporter": "python",
   "pygments_lexer": "ipython3",
   "version": "3.9.12"
  }
 },
 "nbformat": 4,
 "nbformat_minor": 5
}
