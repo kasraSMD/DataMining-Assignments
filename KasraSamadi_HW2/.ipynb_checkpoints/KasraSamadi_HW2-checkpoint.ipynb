{
 "cells": [
  {
   "cell_type": "markdown",
   "id": "e0917cfa",
   "metadata": {},
   "source": [
    "# Kasra Samadi 993623030 \n",
    "# HW2 DataMining"
   ]
  },
  {
   "cell_type": "markdown",
   "id": "36a63b20",
   "metadata": {},
   "source": [
    "## Tasks : \n",
    "### 1- Read data set-2.csv\n",
    "### 2- Obtaining information (#Rows, #Columns, Types of Columns, describe of dataFrame, Missing values, Inconsistent datas)\n",
    "### 3- Correlation Matrix\n",
    "### 4- Visualize the linear relationship between two numerical features to illustrate the concept of correlation\n"
   ]
  },
  {
   "cell_type": "markdown",
   "id": "c69e6e25",
   "metadata": {},
   "source": [
    "# Task 1 And 2"
   ]
  },
  {
   "cell_type": "markdown",
   "id": "78c859a4",
   "metadata": {},
   "source": [
    "## Import libraries"
   ]
  },
  {
   "cell_type": "code",
   "execution_count": 28,
   "id": "b8265ecd",
   "metadata": {},
   "outputs": [],
   "source": [
    "import numpy as np\n",
    "import pandas as pd\n",
    "import seaborn as sns\n",
    "import matplotlib.pyplot as plt\n"
   ]
  },
  {
   "cell_type": "markdown",
   "id": "950a069b",
   "metadata": {},
   "source": [
    "## Reading data set-2.csv"
   ]
  },
  {
   "cell_type": "code",
   "execution_count": 3,
   "id": "22611acf",
   "metadata": {},
   "outputs": [],
   "source": [
    "df = pd.read_csv(\"data set-2.csv\")\n"
   ]
  },
  {
   "cell_type": "markdown",
   "id": "f35be81c",
   "metadata": {},
   "source": [
    "## Missing datas are marked with NaN"
   ]
  },
  {
   "cell_type": "code",
   "execution_count": 4,
   "id": "bc94efc7",
   "metadata": {},
   "outputs": [
    {
     "data": {
      "text/html": [
       "<div>\n",
       "<style scoped>\n",
       "    .dataframe tbody tr th:only-of-type {\n",
       "        vertical-align: middle;\n",
       "    }\n",
       "\n",
       "    .dataframe tbody tr th {\n",
       "        vertical-align: top;\n",
       "    }\n",
       "\n",
       "    .dataframe thead th {\n",
       "        text-align: right;\n",
       "    }\n",
       "</style>\n",
       "<table border=\"1\" class=\"dataframe\">\n",
       "  <thead>\n",
       "    <tr style=\"text-align: right;\">\n",
       "      <th></th>\n",
       "      <th>Insulation</th>\n",
       "      <th>Temperature</th>\n",
       "      <th>Heating_Oil</th>\n",
       "      <th>Num_Occupants</th>\n",
       "      <th>Avg_Age</th>\n",
       "      <th>Home_Size</th>\n",
       "    </tr>\n",
       "  </thead>\n",
       "  <tbody>\n",
       "    <tr>\n",
       "      <th>0</th>\n",
       "      <td>6</td>\n",
       "      <td>74</td>\n",
       "      <td>132</td>\n",
       "      <td>4</td>\n",
       "      <td>23.8</td>\n",
       "      <td>4</td>\n",
       "    </tr>\n",
       "    <tr>\n",
       "      <th>1</th>\n",
       "      <td>10</td>\n",
       "      <td>43</td>\n",
       "      <td>263</td>\n",
       "      <td>4</td>\n",
       "      <td>56.7</td>\n",
       "      <td>4</td>\n",
       "    </tr>\n",
       "    <tr>\n",
       "      <th>2</th>\n",
       "      <td>3</td>\n",
       "      <td>81</td>\n",
       "      <td>145</td>\n",
       "      <td>2</td>\n",
       "      <td>28.0</td>\n",
       "      <td>6</td>\n",
       "    </tr>\n",
       "    <tr>\n",
       "      <th>3</th>\n",
       "      <td>9</td>\n",
       "      <td>50</td>\n",
       "      <td>196</td>\n",
       "      <td>4</td>\n",
       "      <td>45.1</td>\n",
       "      <td>3</td>\n",
       "    </tr>\n",
       "    <tr>\n",
       "      <th>4</th>\n",
       "      <td>2</td>\n",
       "      <td>80</td>\n",
       "      <td>131</td>\n",
       "      <td>5</td>\n",
       "      <td>20.8</td>\n",
       "      <td>2</td>\n",
       "    </tr>\n",
       "    <tr>\n",
       "      <th>...</th>\n",
       "      <td>...</td>\n",
       "      <td>...</td>\n",
       "      <td>...</td>\n",
       "      <td>...</td>\n",
       "      <td>...</td>\n",
       "      <td>...</td>\n",
       "    </tr>\n",
       "    <tr>\n",
       "      <th>1213</th>\n",
       "      <td>7</td>\n",
       "      <td>56</td>\n",
       "      <td>264</td>\n",
       "      <td>5</td>\n",
       "      <td>58.2</td>\n",
       "      <td>5</td>\n",
       "    </tr>\n",
       "    <tr>\n",
       "      <th>1214</th>\n",
       "      <td>5</td>\n",
       "      <td>78</td>\n",
       "      <td>129</td>\n",
       "      <td>1</td>\n",
       "      <td>22.5</td>\n",
       "      <td>1</td>\n",
       "    </tr>\n",
       "    <tr>\n",
       "      <th>1215</th>\n",
       "      <td>5</td>\n",
       "      <td>77</td>\n",
       "      <td>138</td>\n",
       "      <td>3</td>\n",
       "      <td>26.8</td>\n",
       "      <td>1</td>\n",
       "    </tr>\n",
       "    <tr>\n",
       "      <th>1216</th>\n",
       "      <td>3</td>\n",
       "      <td>89</td>\n",
       "      <td>156</td>\n",
       "      <td>2</td>\n",
       "      <td>34.0</td>\n",
       "      <td>2</td>\n",
       "    </tr>\n",
       "    <tr>\n",
       "      <th>1217</th>\n",
       "      <td>7</td>\n",
       "      <td>59</td>\n",
       "      <td>273</td>\n",
       "      <td>1</td>\n",
       "      <td>61.4</td>\n",
       "      <td>5</td>\n",
       "    </tr>\n",
       "  </tbody>\n",
       "</table>\n",
       "<p>1218 rows × 6 columns</p>\n",
       "</div>"
      ],
      "text/plain": [
       "      Insulation  Temperature  Heating_Oil  Num_Occupants  Avg_Age  Home_Size\n",
       "0              6           74          132              4     23.8          4\n",
       "1             10           43          263              4     56.7          4\n",
       "2              3           81          145              2     28.0          6\n",
       "3              9           50          196              4     45.1          3\n",
       "4              2           80          131              5     20.8          2\n",
       "...          ...          ...          ...            ...      ...        ...\n",
       "1213           7           56          264              5     58.2          5\n",
       "1214           5           78          129              1     22.5          1\n",
       "1215           5           77          138              3     26.8          1\n",
       "1216           3           89          156              2     34.0          2\n",
       "1217           7           59          273              1     61.4          5\n",
       "\n",
       "[1218 rows x 6 columns]"
      ]
     },
     "execution_count": 4,
     "metadata": {},
     "output_type": "execute_result"
    }
   ],
   "source": [
    "df\n"
   ]
  },
  {
   "cell_type": "markdown",
   "id": "3ed9659a",
   "metadata": {},
   "source": [
    "## This dataFrame has 1218 rows and 6 columns"
   ]
  },
  {
   "cell_type": "code",
   "execution_count": 6,
   "id": "ce3d8380",
   "metadata": {},
   "outputs": [
    {
     "data": {
      "text/plain": [
       "(1218, 6)"
      ]
     },
     "execution_count": 6,
     "metadata": {},
     "output_type": "execute_result"
    }
   ],
   "source": [
    "df.shape\n"
   ]
  },
  {
   "cell_type": "markdown",
   "id": "e76eebe2",
   "metadata": {},
   "source": [
    "## Find columns names and their types"
   ]
  },
  {
   "cell_type": "code",
   "execution_count": 7,
   "id": "d6424022",
   "metadata": {},
   "outputs": [
    {
     "data": {
      "text/plain": [
       "Insulation         int64\n",
       "Temperature        int64\n",
       "Heating_Oil        int64\n",
       "Num_Occupants      int64\n",
       "Avg_Age          float64\n",
       "Home_Size          int64\n",
       "dtype: object"
      ]
     },
     "execution_count": 7,
     "metadata": {},
     "output_type": "execute_result"
    }
   ],
   "source": [
    "df.dtypes\n"
   ]
  },
  {
   "cell_type": "markdown",
   "id": "5e82a1ca",
   "metadata": {},
   "source": [
    "## Show The describe of this dataFrame"
   ]
  },
  {
   "cell_type": "code",
   "execution_count": 9,
   "id": "a4bb56e4",
   "metadata": {
    "scrolled": false
   },
   "outputs": [
    {
     "data": {
      "text/html": [
       "<div>\n",
       "<style scoped>\n",
       "    .dataframe tbody tr th:only-of-type {\n",
       "        vertical-align: middle;\n",
       "    }\n",
       "\n",
       "    .dataframe tbody tr th {\n",
       "        vertical-align: top;\n",
       "    }\n",
       "\n",
       "    .dataframe thead th {\n",
       "        text-align: right;\n",
       "    }\n",
       "</style>\n",
       "<table border=\"1\" class=\"dataframe\">\n",
       "  <thead>\n",
       "    <tr style=\"text-align: right;\">\n",
       "      <th></th>\n",
       "      <th>Insulation</th>\n",
       "      <th>Temperature</th>\n",
       "      <th>Heating_Oil</th>\n",
       "      <th>Num_Occupants</th>\n",
       "      <th>Avg_Age</th>\n",
       "      <th>Home_Size</th>\n",
       "    </tr>\n",
       "  </thead>\n",
       "  <tbody>\n",
       "    <tr>\n",
       "      <th>count</th>\n",
       "      <td>1218.000000</td>\n",
       "      <td>1218.000000</td>\n",
       "      <td>1218.000000</td>\n",
       "      <td>1218.000000</td>\n",
       "      <td>1218.000000</td>\n",
       "      <td>1218.000000</td>\n",
       "    </tr>\n",
       "    <tr>\n",
       "      <th>mean</th>\n",
       "      <td>6.214286</td>\n",
       "      <td>65.078818</td>\n",
       "      <td>197.394089</td>\n",
       "      <td>3.113300</td>\n",
       "      <td>42.706404</td>\n",
       "      <td>4.649425</td>\n",
       "    </tr>\n",
       "    <tr>\n",
       "      <th>std</th>\n",
       "      <td>2.768094</td>\n",
       "      <td>16.932425</td>\n",
       "      <td>56.248267</td>\n",
       "      <td>1.690605</td>\n",
       "      <td>15.051137</td>\n",
       "      <td>2.321226</td>\n",
       "    </tr>\n",
       "    <tr>\n",
       "      <th>min</th>\n",
       "      <td>2.000000</td>\n",
       "      <td>38.000000</td>\n",
       "      <td>114.000000</td>\n",
       "      <td>1.000000</td>\n",
       "      <td>15.100000</td>\n",
       "      <td>1.000000</td>\n",
       "    </tr>\n",
       "    <tr>\n",
       "      <th>25%</th>\n",
       "      <td>4.000000</td>\n",
       "      <td>49.000000</td>\n",
       "      <td>148.250000</td>\n",
       "      <td>2.000000</td>\n",
       "      <td>29.700000</td>\n",
       "      <td>3.000000</td>\n",
       "    </tr>\n",
       "    <tr>\n",
       "      <th>50%</th>\n",
       "      <td>6.000000</td>\n",
       "      <td>60.000000</td>\n",
       "      <td>185.000000</td>\n",
       "      <td>3.000000</td>\n",
       "      <td>42.900000</td>\n",
       "      <td>5.000000</td>\n",
       "    </tr>\n",
       "    <tr>\n",
       "      <th>75%</th>\n",
       "      <td>9.000000</td>\n",
       "      <td>81.000000</td>\n",
       "      <td>253.000000</td>\n",
       "      <td>4.000000</td>\n",
       "      <td>55.600000</td>\n",
       "      <td>7.000000</td>\n",
       "    </tr>\n",
       "    <tr>\n",
       "      <th>max</th>\n",
       "      <td>10.000000</td>\n",
       "      <td>90.000000</td>\n",
       "      <td>301.000000</td>\n",
       "      <td>10.000000</td>\n",
       "      <td>72.200000</td>\n",
       "      <td>8.000000</td>\n",
       "    </tr>\n",
       "  </tbody>\n",
       "</table>\n",
       "</div>"
      ],
      "text/plain": [
       "        Insulation  Temperature  Heating_Oil  Num_Occupants      Avg_Age  \\\n",
       "count  1218.000000  1218.000000  1218.000000    1218.000000  1218.000000   \n",
       "mean      6.214286    65.078818   197.394089       3.113300    42.706404   \n",
       "std       2.768094    16.932425    56.248267       1.690605    15.051137   \n",
       "min       2.000000    38.000000   114.000000       1.000000    15.100000   \n",
       "25%       4.000000    49.000000   148.250000       2.000000    29.700000   \n",
       "50%       6.000000    60.000000   185.000000       3.000000    42.900000   \n",
       "75%       9.000000    81.000000   253.000000       4.000000    55.600000   \n",
       "max      10.000000    90.000000   301.000000      10.000000    72.200000   \n",
       "\n",
       "         Home_Size  \n",
       "count  1218.000000  \n",
       "mean      4.649425  \n",
       "std       2.321226  \n",
       "min       1.000000  \n",
       "25%       3.000000  \n",
       "50%       5.000000  \n",
       "75%       7.000000  \n",
       "max       8.000000  "
      ]
     },
     "execution_count": 9,
     "metadata": {},
     "output_type": "execute_result"
    }
   ],
   "source": [
    "df.describe()"
   ]
  },
  {
   "cell_type": "markdown",
   "id": "d12d30a6",
   "metadata": {},
   "source": [
    "## Find the number of missing values for each columns\n",
    "### There are no missing values AND Inconsistent datas in this dataFrame"
   ]
  },
  {
   "cell_type": "code",
   "execution_count": 8,
   "id": "0bcd0f76",
   "metadata": {
    "scrolled": true
   },
   "outputs": [
    {
     "data": {
      "text/plain": [
       "Insulation       0\n",
       "Temperature      0\n",
       "Heating_Oil      0\n",
       "Num_Occupants    0\n",
       "Avg_Age          0\n",
       "Home_Size        0\n",
       "dtype: int64"
      ]
     },
     "execution_count": 8,
     "metadata": {},
     "output_type": "execute_result"
    }
   ],
   "source": [
    "df.isna().sum()\n"
   ]
  },
  {
   "cell_type": "code",
   "execution_count": 23,
   "id": "43be2f5e",
   "metadata": {
    "scrolled": false
   },
   "outputs": [
    {
     "name": "stdout",
     "output_type": "stream",
     "text": [
      "10    227\n",
      "3     179\n",
      "4     164\n",
      "5     144\n",
      "9     139\n",
      "8     121\n",
      "2      95\n",
      "7      83\n",
      "6      66\n",
      "Name: Insulation, dtype: int64\n",
      "76    57\n",
      "89    49\n",
      "77    43\n",
      "42    43\n",
      "55    42\n",
      "48    41\n",
      "75    41\n",
      "88    40\n",
      "40    38\n",
      "83    37\n",
      "56    37\n",
      "58    36\n",
      "43    35\n",
      "81    33\n",
      "57    33\n",
      "73    33\n",
      "86    32\n",
      "80    32\n",
      "59    31\n",
      "84    30\n",
      "74    30\n",
      "78    29\n",
      "82    27\n",
      "49    27\n",
      "87    26\n",
      "47    25\n",
      "39    25\n",
      "54    24\n",
      "45    24\n",
      "90    23\n",
      "52    22\n",
      "50    22\n",
      "53    20\n",
      "51    18\n",
      "41    17\n",
      "46    16\n",
      "79    15\n",
      "72    15\n",
      "44    14\n",
      "85    14\n",
      "60    12\n",
      "38    10\n",
      "Name: Temperature, dtype: int64\n",
      "131    21\n",
      "142    18\n",
      "183    18\n",
      "156    16\n",
      "288    16\n",
      "       ..\n",
      "216     1\n",
      "218     1\n",
      "268     1\n",
      "222     1\n",
      "269     1\n",
      "Name: Heating_Oil, Length: 178, dtype: int64\n",
      "1     252\n",
      "3     249\n",
      "2     233\n",
      "4     226\n",
      "5     209\n",
      "6      14\n",
      "8      12\n",
      "10      9\n",
      "7       9\n",
      "9       5\n",
      "Name: Num_Occupants, dtype: int64\n",
      "1     252\n",
      "3     249\n",
      "2     233\n",
      "4     226\n",
      "5     209\n",
      "6      14\n",
      "8      12\n",
      "10      9\n",
      "7       9\n",
      "9       5\n",
      "Name: Num_Occupants, dtype: int64\n",
      "8    174\n",
      "7    168\n",
      "4    154\n",
      "6    151\n",
      "1    149\n",
      "5    147\n",
      "3    139\n",
      "2    136\n",
      "Name: Home_Size, dtype: int64\n"
     ]
    }
   ],
   "source": [
    "print(df[\"Insulation\"].value_counts())\n",
    "print(df[\"Temperature\"].value_counts())\n",
    "print(df[\"Heating_Oil\"].value_counts())\n",
    "print(df[\"Num_Occupants\"].value_counts())\n",
    "print(df[\"Num_Occupants\"].value_counts())\n",
    "print(df[\"Home_Size\"].value_counts())\n"
   ]
  },
  {
   "cell_type": "markdown",
   "id": "8e6feff6",
   "metadata": {},
   "source": [
    "# Task 4 : Correlation Matrix"
   ]
  },
  {
   "cell_type": "code",
   "execution_count": 38,
   "id": "2f3b44a3",
   "metadata": {},
   "outputs": [
    {
     "data": {
      "text/plain": [
       "<AxesSubplot:>"
      ]
     },
     "execution_count": 38,
     "metadata": {},
     "output_type": "execute_result"
    },
    {
     "data": {
      "image/png": "[encoded data removed]",
      "text/plain": [
       "<Figure size 576x432 with 2 Axes>"
      ]
     },
     "metadata": {
      "needs_background": "light"
     },
     "output_type": "display_data"
    }
   ],
   "source": [
    "plt.figure(figsize=(8, 6))\n",
    "correlation_matrix = df.corr()\n",
    "sns.heatmap(correlation_matrix, annot=True, cmap=\"coolwarm\")"
   ]
  },
  {
   "cell_type": "markdown",
   "id": "6938abe5",
   "metadata": {},
   "source": [
    "# Task 4 : Visualize the linear relationship"
   ]
  },
  {
   "cell_type": "markdown",
   "id": "fefa2b75",
   "metadata": {},
   "source": [
    "## Possitive correlation"
   ]
  },
  {
   "cell_type": "code",
   "execution_count": 59,
   "id": "647c1dc7",
   "metadata": {},
   "outputs": [
    {
     "data": {
      "text/plain": [
       "<seaborn.axisgrid.FacetGrid at 0x1d98cdb6e20>"
      ]
     },
     "execution_count": 59,
     "metadata": {},
     "output_type": "execute_result"
    },
    {
     "data": {
      "image/png": "[encoded data removed]",
      "text/plain": [
       "<Figure size 360x360 with 1 Axes>"
      ]
     },
     "metadata": {
      "needs_background": "light"
     },
     "output_type": "display_data"
    }
   ],
   "source": [
    "sns.lmplot(x='Insulation', y='Heating_Oil',data=df, line_kws={'color': 'blue'}).set(title='Possitive correlation Between Insulation and Heating_Oil')\n"
   ]
  },
  {
   "cell_type": "markdown",
   "id": "12590a03",
   "metadata": {},
   "source": [
    "## Negative correlation"
   ]
  },
  {
   "cell_type": "code",
   "execution_count": 57,
   "id": "fb3f206e",
   "metadata": {},
   "outputs": [
    {
     "data": {
      "text/plain": [
       "<seaborn.axisgrid.FacetGrid at 0x1d98cc562b0>"
      ]
     },
     "execution_count": 57,
     "metadata": {},
     "output_type": "execute_result"
    },
    {
     "data": {
      "image/png": "[encoded data removed]",
      "text/plain": [
       "<Figure size 360x360 with 1 Axes>"
      ]
     },
     "metadata": {
      "needs_background": "light"
     },
     "output_type": "display_data"
    }
   ],
   "source": [
    "sns.lmplot(x='Insulation', y='Temperature',data=df, line_kws={'color': 'red'}).set(title='Negative correlation Between Insulation and Temperature')\n"
   ]
  },
  {
   "cell_type": "markdown",
   "id": "3193ff19",
   "metadata": {},
   "source": [
    "## No correlation"
   ]
  },
  {
   "cell_type": "code",
   "execution_count": 62,
   "id": "4607cacf",
   "metadata": {},
   "outputs": [
    {
     "data": {
      "text/plain": [
       "<seaborn.axisgrid.FacetGrid at 0x1d98ddfe730>"
      ]
     },
     "execution_count": 62,
     "metadata": {},
     "output_type": "execute_result"
    },
    {
     "data": {
      "image/png": "[encoded data removed]",
      "text/plain": [
       "<Figure size 360x360 with 1 Axes>"
      ]
     },
     "metadata": {
      "needs_background": "light"
     },
     "output_type": "display_data"
    }
   ],
   "source": [
    "sns.lmplot(x='Num_Occupants', y='Temperature',data=df, line_kws={'color': 'green'}).set(title='No correlation Between Num_Occupants and Temperature')\n"
   ]
  }
 ],
 "metadata": {
  "kernelspec": {
   "display_name": "Python 3 (ipykernel)",
   "language": "python",
   "name": "python3"
  },
  "language_info": {
   "codemirror_mode": {
    "name": "ipython",
    "version": 3
   },
   "file_extension": ".py",
   "mimetype": "text/x-python",
   "name": "python",
   "nbconvert_exporter": "python",
   "pygments_lexer": "ipython3",
   "version": "3.9.12"
  }
 },
 "nbformat": 4,
 "nbformat_minor": 5
}
