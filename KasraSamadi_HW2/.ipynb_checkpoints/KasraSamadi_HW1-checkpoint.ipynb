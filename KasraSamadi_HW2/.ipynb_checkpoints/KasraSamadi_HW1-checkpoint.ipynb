{
 "cells": [
  {
   "cell_type": "markdown",
   "id": "e0917cfa",
   "metadata": {},
   "source": [
    "# Kasra Samadi 993623030 \n",
    "# HW1 DataMining"
   ]
  },
  {
   "cell_type": "markdown",
   "id": "36a63b20",
   "metadata": {},
   "source": [
    "## Tasks : \n",
    "### 1- Read data set-1.csv and find missing data\n",
    "### 2- Fill missing data in Online_Gaming column with N value\n",
    "### 3- Data reduction in Online_Shopping column\n",
    "### 4- Sampleing\n",
    "### 5-  Inconsistent data \n",
    "### 6- Reduction of attributes"
   ]
  },
  {
   "cell_type": "markdown",
   "id": "c69e6e25",
   "metadata": {},
   "source": [
    "# Task 1 And 2"
   ]
  },
  {
   "cell_type": "markdown",
   "id": "78c859a4",
   "metadata": {},
   "source": [
    "## Import libraries"
   ]
  },
  {
   "cell_type": "code",
   "execution_count": 1,
   "id": "b8265ecd",
   "metadata": {},
   "outputs": [],
   "source": [
    "import numpy as np\n",
    "import pandas as pd\n"
   ]
  },
  {
   "cell_type": "markdown",
   "id": "950a069b",
   "metadata": {},
   "source": [
    "## Reading data set-1.csv"
   ]
  },
  {
   "cell_type": "code",
   "execution_count": 2,
   "id": "22611acf",
   "metadata": {},
   "outputs": [],
   "source": [
    "df = pd.read_csv(\"data set-1.csv\")\n"
   ]
  },
  {
   "cell_type": "markdown",
   "id": "f35be81c",
   "metadata": {},
   "source": [
    "## Missing datas are marked with NaN"
   ]
  },
  {
   "cell_type": "code",
   "execution_count": 3,
   "id": "bc94efc7",
   "metadata": {},
   "outputs": [
    {
     "data": {
      "text/html": [
       "<div>\n",
       "<style scoped>\n",
       "    .dataframe tbody tr th:only-of-type {\n",
       "        vertical-align: middle;\n",
       "    }\n",
       "\n",
       "    .dataframe tbody tr th {\n",
       "        vertical-align: top;\n",
       "    }\n",
       "\n",
       "    .dataframe thead th {\n",
       "        text-align: right;\n",
       "    }\n",
       "</style>\n",
       "<table border=\"1\" class=\"dataframe\">\n",
       "  <thead>\n",
       "    <tr style=\"text-align: right;\">\n",
       "      <th></th>\n",
       "      <th>Gender</th>\n",
       "      <th>Race</th>\n",
       "      <th>Birth_Year</th>\n",
       "      <th>Marital_Status</th>\n",
       "      <th>Years_on_Internet</th>\n",
       "      <th>Hours_Per_Day</th>\n",
       "      <th>Preferred_Browser</th>\n",
       "      <th>Preferred_Search_Engine</th>\n",
       "      <th>Preferred_Email</th>\n",
       "      <th>Read_News</th>\n",
       "      <th>Online_Shopping</th>\n",
       "      <th>Online_Gaming</th>\n",
       "      <th>Facebook</th>\n",
       "      <th>Twitter</th>\n",
       "      <th>Other_Social_Network</th>\n",
       "    </tr>\n",
       "  </thead>\n",
       "  <tbody>\n",
       "    <tr>\n",
       "      <th>0</th>\n",
       "      <td>M</td>\n",
       "      <td>White</td>\n",
       "      <td>1972</td>\n",
       "      <td>M</td>\n",
       "      <td>8</td>\n",
       "      <td>1</td>\n",
       "      <td>Firefox</td>\n",
       "      <td>Google</td>\n",
       "      <td>Yahoo</td>\n",
       "      <td>Y</td>\n",
       "      <td>N</td>\n",
       "      <td>N</td>\n",
       "      <td>Y</td>\n",
       "      <td>N</td>\n",
       "      <td>NaN</td>\n",
       "    </tr>\n",
       "    <tr>\n",
       "      <th>1</th>\n",
       "      <td>M</td>\n",
       "      <td>Hispanic</td>\n",
       "      <td>1981</td>\n",
       "      <td>S</td>\n",
       "      <td>14</td>\n",
       "      <td>2</td>\n",
       "      <td>Chrome</td>\n",
       "      <td>Google</td>\n",
       "      <td>Hotmail</td>\n",
       "      <td>Y</td>\n",
       "      <td>N</td>\n",
       "      <td>N</td>\n",
       "      <td>Y</td>\n",
       "      <td>N</td>\n",
       "      <td>NaN</td>\n",
       "    </tr>\n",
       "    <tr>\n",
       "      <th>2</th>\n",
       "      <td>F</td>\n",
       "      <td>African American</td>\n",
       "      <td>1977</td>\n",
       "      <td>S</td>\n",
       "      <td>6</td>\n",
       "      <td>2</td>\n",
       "      <td>Firefox</td>\n",
       "      <td>Yahoo</td>\n",
       "      <td>Yahoo</td>\n",
       "      <td>Y</td>\n",
       "      <td>Y</td>\n",
       "      <td>NaN</td>\n",
       "      <td>Y</td>\n",
       "      <td>N</td>\n",
       "      <td>NaN</td>\n",
       "    </tr>\n",
       "    <tr>\n",
       "      <th>3</th>\n",
       "      <td>F</td>\n",
       "      <td>White</td>\n",
       "      <td>1961</td>\n",
       "      <td>D</td>\n",
       "      <td>8</td>\n",
       "      <td>6</td>\n",
       "      <td>Firefox</td>\n",
       "      <td>Google</td>\n",
       "      <td>Hotmail</td>\n",
       "      <td>N</td>\n",
       "      <td>Y</td>\n",
       "      <td>N</td>\n",
       "      <td>N</td>\n",
       "      <td>Y</td>\n",
       "      <td>NaN</td>\n",
       "    </tr>\n",
       "    <tr>\n",
       "      <th>4</th>\n",
       "      <td>M</td>\n",
       "      <td>White</td>\n",
       "      <td>1954</td>\n",
       "      <td>M</td>\n",
       "      <td>2</td>\n",
       "      <td>3</td>\n",
       "      <td>Internet Explorer</td>\n",
       "      <td>Bing</td>\n",
       "      <td>Hotmail</td>\n",
       "      <td>Y</td>\n",
       "      <td>Y</td>\n",
       "      <td>N</td>\n",
       "      <td>Y</td>\n",
       "      <td>N</td>\n",
       "      <td>NaN</td>\n",
       "    </tr>\n",
       "    <tr>\n",
       "      <th>5</th>\n",
       "      <td>M</td>\n",
       "      <td>African American</td>\n",
       "      <td>1982</td>\n",
       "      <td>D</td>\n",
       "      <td>15</td>\n",
       "      <td>4</td>\n",
       "      <td>Internet Explorer</td>\n",
       "      <td>Google</td>\n",
       "      <td>Yahoo</td>\n",
       "      <td>Y</td>\n",
       "      <td>N</td>\n",
       "      <td>Y</td>\n",
       "      <td>N</td>\n",
       "      <td>N</td>\n",
       "      <td>NaN</td>\n",
       "    </tr>\n",
       "    <tr>\n",
       "      <th>6</th>\n",
       "      <td>M</td>\n",
       "      <td>African American</td>\n",
       "      <td>1981</td>\n",
       "      <td>D</td>\n",
       "      <td>11</td>\n",
       "      <td>2</td>\n",
       "      <td>Firefox</td>\n",
       "      <td>Google</td>\n",
       "      <td>Yahoo</td>\n",
       "      <td>NaN</td>\n",
       "      <td>Y</td>\n",
       "      <td>NaN</td>\n",
       "      <td>Y</td>\n",
       "      <td>Y</td>\n",
       "      <td>LinkedIn</td>\n",
       "    </tr>\n",
       "    <tr>\n",
       "      <th>7</th>\n",
       "      <td>M</td>\n",
       "      <td>White</td>\n",
       "      <td>1977</td>\n",
       "      <td>S</td>\n",
       "      <td>3</td>\n",
       "      <td>3</td>\n",
       "      <td>Internet Explorer</td>\n",
       "      <td>Yahoo</td>\n",
       "      <td>Yahoo</td>\n",
       "      <td>Y</td>\n",
       "      <td>NaN</td>\n",
       "      <td>NaN</td>\n",
       "      <td>Y</td>\n",
       "      <td>99</td>\n",
       "      <td>LinkedIn</td>\n",
       "    </tr>\n",
       "    <tr>\n",
       "      <th>8</th>\n",
       "      <td>F</td>\n",
       "      <td>African American</td>\n",
       "      <td>1969</td>\n",
       "      <td>M</td>\n",
       "      <td>6</td>\n",
       "      <td>2</td>\n",
       "      <td>Firefox</td>\n",
       "      <td>Google</td>\n",
       "      <td>Gmail</td>\n",
       "      <td>N</td>\n",
       "      <td>Y</td>\n",
       "      <td>N</td>\n",
       "      <td>N</td>\n",
       "      <td>N</td>\n",
       "      <td>NaN</td>\n",
       "    </tr>\n",
       "    <tr>\n",
       "      <th>9</th>\n",
       "      <td>M</td>\n",
       "      <td>White</td>\n",
       "      <td>1987</td>\n",
       "      <td>S</td>\n",
       "      <td>12</td>\n",
       "      <td>1</td>\n",
       "      <td>Safari</td>\n",
       "      <td>Yahoo</td>\n",
       "      <td>Yahoo</td>\n",
       "      <td>Y</td>\n",
       "      <td>NaN</td>\n",
       "      <td>Y</td>\n",
       "      <td>Y</td>\n",
       "      <td>N</td>\n",
       "      <td>MySpace</td>\n",
       "    </tr>\n",
       "    <tr>\n",
       "      <th>10</th>\n",
       "      <td>F</td>\n",
       "      <td>Hispanic</td>\n",
       "      <td>1959</td>\n",
       "      <td>D</td>\n",
       "      <td>12</td>\n",
       "      <td>5</td>\n",
       "      <td>Chrome</td>\n",
       "      <td>Google</td>\n",
       "      <td>Gmail</td>\n",
       "      <td>Y</td>\n",
       "      <td>N</td>\n",
       "      <td>N</td>\n",
       "      <td>Y</td>\n",
       "      <td>N</td>\n",
       "      <td>Google+</td>\n",
       "    </tr>\n",
       "  </tbody>\n",
       "</table>\n",
       "</div>"
      ],
      "text/plain": [
       "   Gender              Race  Birth_Year Marital_Status  Years_on_Internet  \\\n",
       "0       M             White        1972              M                  8   \n",
       "1       M          Hispanic        1981              S                 14   \n",
       "2       F  African American        1977              S                  6   \n",
       "3       F             White        1961              D                  8   \n",
       "4       M             White        1954              M                  2   \n",
       "5       M  African American        1982              D                 15   \n",
       "6       M  African American        1981              D                 11   \n",
       "7       M             White        1977              S                  3   \n",
       "8       F  African American        1969              M                  6   \n",
       "9       M             White        1987              S                 12   \n",
       "10      F          Hispanic        1959              D                 12   \n",
       "\n",
       "    Hours_Per_Day  Preferred_Browser Preferred_Search_Engine Preferred_Email  \\\n",
       "0               1            Firefox                  Google           Yahoo   \n",
       "1               2             Chrome                  Google         Hotmail   \n",
       "2               2            Firefox                   Yahoo           Yahoo   \n",
       "3               6            Firefox                  Google         Hotmail   \n",
       "4               3  Internet Explorer                    Bing         Hotmail   \n",
       "5               4  Internet Explorer                  Google           Yahoo   \n",
       "6               2            Firefox                  Google           Yahoo   \n",
       "7               3  Internet Explorer                   Yahoo           Yahoo   \n",
       "8               2            Firefox                  Google           Gmail   \n",
       "9               1             Safari                   Yahoo           Yahoo   \n",
       "10              5             Chrome                  Google           Gmail   \n",
       "\n",
       "   Read_News Online_Shopping Online_Gaming Facebook Twitter  \\\n",
       "0          Y               N             N        Y       N   \n",
       "1          Y               N             N        Y       N   \n",
       "2          Y               Y           NaN        Y       N   \n",
       "3          N               Y             N        N       Y   \n",
       "4          Y               Y             N        Y       N   \n",
       "5          Y               N             Y        N       N   \n",
       "6        NaN               Y           NaN        Y       Y   \n",
       "7          Y             NaN           NaN        Y      99   \n",
       "8          N               Y             N        N       N   \n",
       "9          Y             NaN             Y        Y       N   \n",
       "10         Y               N             N        Y       N   \n",
       "\n",
       "   Other_Social_Network  \n",
       "0                   NaN  \n",
       "1                   NaN  \n",
       "2                   NaN  \n",
       "3                   NaN  \n",
       "4                   NaN  \n",
       "5                   NaN  \n",
       "6              LinkedIn  \n",
       "7              LinkedIn  \n",
       "8                   NaN  \n",
       "9               MySpace  \n",
       "10              Google+  "
      ]
     },
     "execution_count": 3,
     "metadata": {},
     "output_type": "execute_result"
    }
   ],
   "source": [
    "df\n"
   ]
  },
  {
   "cell_type": "markdown",
   "id": "3ed9659a",
   "metadata": {},
   "source": [
    "## This dataFrame has 11 rows and 15 columns"
   ]
  },
  {
   "cell_type": "code",
   "execution_count": 4,
   "id": "ce3d8380",
   "metadata": {},
   "outputs": [
    {
     "data": {
      "text/plain": [
       "(11, 15)"
      ]
     },
     "execution_count": 4,
     "metadata": {},
     "output_type": "execute_result"
    }
   ],
   "source": [
    "df.shape\n"
   ]
  },
  {
   "cell_type": "markdown",
   "id": "e76eebe2",
   "metadata": {},
   "source": [
    "## Find columns names and their types"
   ]
  },
  {
   "cell_type": "code",
   "execution_count": 5,
   "id": "d6424022",
   "metadata": {},
   "outputs": [
    {
     "data": {
      "text/plain": [
       "Gender                     object\n",
       "Race                       object\n",
       "Birth_Year                  int64\n",
       "Marital_Status             object\n",
       "Years_on_Internet           int64\n",
       "Hours_Per_Day               int64\n",
       "Preferred_Browser          object\n",
       "Preferred_Search_Engine    object\n",
       "Preferred_Email            object\n",
       "Read_News                  object\n",
       "Online_Shopping            object\n",
       "Online_Gaming              object\n",
       "Facebook                   object\n",
       "Twitter                    object\n",
       "Other_Social_Network       object\n",
       "dtype: object"
      ]
     },
     "execution_count": 5,
     "metadata": {},
     "output_type": "execute_result"
    }
   ],
   "source": [
    "df.dtypes\n"
   ]
  },
  {
   "cell_type": "markdown",
   "id": "d12d30a6",
   "metadata": {},
   "source": [
    "## Find the number of missing values for each columns\n",
    "### In Online_Gaming column we have 3 missing data"
   ]
  },
  {
   "cell_type": "code",
   "execution_count": 6,
   "id": "0bcd0f76",
   "metadata": {},
   "outputs": [
    {
     "data": {
      "text/plain": [
       "Gender                     0\n",
       "Race                       0\n",
       "Birth_Year                 0\n",
       "Marital_Status             0\n",
       "Years_on_Internet          0\n",
       "Hours_Per_Day              0\n",
       "Preferred_Browser          0\n",
       "Preferred_Search_Engine    0\n",
       "Preferred_Email            0\n",
       "Read_News                  1\n",
       "Online_Shopping            2\n",
       "Online_Gaming              3\n",
       "Facebook                   0\n",
       "Twitter                    0\n",
       "Other_Social_Network       7\n",
       "dtype: int64"
      ]
     },
     "execution_count": 6,
     "metadata": {},
     "output_type": "execute_result"
    }
   ],
   "source": [
    "df.isna().sum()\n"
   ]
  },
  {
   "cell_type": "markdown",
   "id": "b3c2f3a0",
   "metadata": {},
   "source": [
    "## Replace NaN values (Missing data) Of Online_Gaming column with N"
   ]
  },
  {
   "cell_type": "code",
   "execution_count": 7,
   "id": "b1b8092b",
   "metadata": {},
   "outputs": [],
   "source": [
    "df[\"Online_Gaming\"].fillna(\"N\", inplace=True)\n"
   ]
  },
  {
   "cell_type": "markdown",
   "id": "8e6feff6",
   "metadata": {},
   "source": [
    "## Now we dont have any missing values in Online_Gaming"
   ]
  },
  {
   "cell_type": "code",
   "execution_count": 8,
   "id": "f01fa1ce",
   "metadata": {},
   "outputs": [
    {
     "data": {
      "text/plain": [
       "Gender                     0\n",
       "Race                       0\n",
       "Birth_Year                 0\n",
       "Marital_Status             0\n",
       "Years_on_Internet          0\n",
       "Hours_Per_Day              0\n",
       "Preferred_Browser          0\n",
       "Preferred_Search_Engine    0\n",
       "Preferred_Email            0\n",
       "Read_News                  1\n",
       "Online_Shopping            2\n",
       "Online_Gaming              0\n",
       "Facebook                   0\n",
       "Twitter                    0\n",
       "Other_Social_Network       7\n",
       "dtype: int64"
      ]
     },
     "execution_count": 8,
     "metadata": {},
     "output_type": "execute_result"
    }
   ],
   "source": [
    "df.isna().sum()\n"
   ]
  },
  {
   "cell_type": "markdown",
   "id": "f2bc58ab",
   "metadata": {},
   "source": [
    "## We have 9 N values and 2 Y values in Online_Gaming column"
   ]
  },
  {
   "cell_type": "code",
   "execution_count": 9,
   "id": "5c1ae2f7",
   "metadata": {},
   "outputs": [
    {
     "data": {
      "text/plain": [
       "N    9\n",
       "Y    2\n",
       "Name: Online_Gaming, dtype: int64"
      ]
     },
     "execution_count": 9,
     "metadata": {},
     "output_type": "execute_result"
    }
   ],
   "source": [
    "df['Online_Gaming'].value_counts()\n"
   ]
  },
  {
   "cell_type": "markdown",
   "id": "8181f32c",
   "metadata": {},
   "source": [
    "# Task 3 : Data reduction in Online_Shopping column"
   ]
  },
  {
   "cell_type": "markdown",
   "id": "a42d48b5",
   "metadata": {},
   "source": [
    "## We have 2 missing values in Online_Shopping column"
   ]
  },
  {
   "cell_type": "code",
   "execution_count": 10,
   "id": "1883dc9f",
   "metadata": {},
   "outputs": [
    {
     "data": {
      "text/plain": [
       "Gender                     0\n",
       "Race                       0\n",
       "Birth_Year                 0\n",
       "Marital_Status             0\n",
       "Years_on_Internet          0\n",
       "Hours_Per_Day              0\n",
       "Preferred_Browser          0\n",
       "Preferred_Search_Engine    0\n",
       "Preferred_Email            0\n",
       "Read_News                  1\n",
       "Online_Shopping            2\n",
       "Online_Gaming              0\n",
       "Facebook                   0\n",
       "Twitter                    0\n",
       "Other_Social_Network       7\n",
       "dtype: int64"
      ]
     },
     "execution_count": 10,
     "metadata": {},
     "output_type": "execute_result"
    }
   ],
   "source": [
    "df.isna().sum()\n"
   ]
  },
  {
   "cell_type": "markdown",
   "id": "bc05d2e5",
   "metadata": {},
   "source": [
    "## This dataFrame has 11 rows and 15 columns"
   ]
  },
  {
   "cell_type": "code",
   "execution_count": 11,
   "id": "3ffbebd5",
   "metadata": {},
   "outputs": [
    {
     "data": {
      "text/plain": [
       "(11, 15)"
      ]
     },
     "execution_count": 11,
     "metadata": {},
     "output_type": "execute_result"
    }
   ],
   "source": [
    "df.shape\n"
   ]
  },
  {
   "cell_type": "markdown",
   "id": "96c0a6ee",
   "metadata": {},
   "source": [
    "## We Drop Null values in Online_Shopping Column"
   ]
  },
  {
   "cell_type": "code",
   "execution_count": 12,
   "id": "c78521f7",
   "metadata": {},
   "outputs": [],
   "source": [
    "dropped_Null_df = df.dropna(subset=[\"Online_Shopping\"])\n"
   ]
  },
  {
   "cell_type": "markdown",
   "id": "86d4fd3c",
   "metadata": {},
   "source": [
    "## Now dropped_Null_df has 9 rows and 15 columns"
   ]
  },
  {
   "cell_type": "code",
   "execution_count": 13,
   "id": "366a26e5",
   "metadata": {},
   "outputs": [
    {
     "data": {
      "text/plain": [
       "(9, 15)"
      ]
     },
     "execution_count": 13,
     "metadata": {},
     "output_type": "execute_result"
    }
   ],
   "source": [
    "dropped_Null_df.shape\n"
   ]
  },
  {
   "cell_type": "markdown",
   "id": "2af3d77a",
   "metadata": {},
   "source": [
    "## we dont have any missing values in Online_Shopping"
   ]
  },
  {
   "cell_type": "code",
   "execution_count": 14,
   "id": "8d4e8673",
   "metadata": {},
   "outputs": [
    {
     "data": {
      "text/plain": [
       "Gender                     0\n",
       "Race                       0\n",
       "Birth_Year                 0\n",
       "Marital_Status             0\n",
       "Years_on_Internet          0\n",
       "Hours_Per_Day              0\n",
       "Preferred_Browser          0\n",
       "Preferred_Search_Engine    0\n",
       "Preferred_Email            0\n",
       "Read_News                  1\n",
       "Online_Shopping            0\n",
       "Online_Gaming              0\n",
       "Facebook                   0\n",
       "Twitter                    0\n",
       "Other_Social_Network       7\n",
       "dtype: int64"
      ]
     },
     "execution_count": 14,
     "metadata": {},
     "output_type": "execute_result"
    }
   ],
   "source": [
    "dropped_Null_df.isna().sum()\n"
   ]
  },
  {
   "cell_type": "markdown",
   "id": "c3306f36",
   "metadata": {},
   "source": [
    "# Task 4 : Sampleing\n",
    "###  Sample ratio = 0.5"
   ]
  },
  {
   "cell_type": "code",
   "execution_count": 15,
   "id": "e07aa41f",
   "metadata": {},
   "outputs": [],
   "source": [
    "sampled_df = dropped_Null_df.sample(frac=0.5)\n"
   ]
  },
  {
   "cell_type": "markdown",
   "id": "a866f169",
   "metadata": {},
   "source": [
    "## sampled_df has 4 rows and 15 columns"
   ]
  },
  {
   "cell_type": "code",
   "execution_count": 16,
   "id": "8ec0829c",
   "metadata": {},
   "outputs": [
    {
     "data": {
      "text/plain": [
       "(4, 15)"
      ]
     },
     "execution_count": 16,
     "metadata": {},
     "output_type": "execute_result"
    }
   ],
   "source": [
    "sampled_df.shape\n"
   ]
  },
  {
   "cell_type": "markdown",
   "id": "4cb8a951",
   "metadata": {},
   "source": [
    "# Task 5 :  Inconsistent data \n",
    "#### df dataFrame is without sampling and removing null values in Online_Shopping column"
   ]
  },
  {
   "cell_type": "code",
   "execution_count": 17,
   "id": "8038b83c",
   "metadata": {},
   "outputs": [
    {
     "data": {
      "text/plain": [
       "(11, 15)"
      ]
     },
     "execution_count": 17,
     "metadata": {},
     "output_type": "execute_result"
    }
   ],
   "source": [
    "df.shape\n"
   ]
  },
  {
   "cell_type": "code",
   "execution_count": 18,
   "id": "54e760b2",
   "metadata": {},
   "outputs": [
    {
     "data": {
      "text/html": [
       "<div>\n",
       "<style scoped>\n",
       "    .dataframe tbody tr th:only-of-type {\n",
       "        vertical-align: middle;\n",
       "    }\n",
       "\n",
       "    .dataframe tbody tr th {\n",
       "        vertical-align: top;\n",
       "    }\n",
       "\n",
       "    .dataframe thead th {\n",
       "        text-align: right;\n",
       "    }\n",
       "</style>\n",
       "<table border=\"1\" class=\"dataframe\">\n",
       "  <thead>\n",
       "    <tr style=\"text-align: right;\">\n",
       "      <th></th>\n",
       "      <th>Gender</th>\n",
       "      <th>Race</th>\n",
       "      <th>Birth_Year</th>\n",
       "      <th>Marital_Status</th>\n",
       "      <th>Years_on_Internet</th>\n",
       "      <th>Hours_Per_Day</th>\n",
       "      <th>Preferred_Browser</th>\n",
       "      <th>Preferred_Search_Engine</th>\n",
       "      <th>Preferred_Email</th>\n",
       "      <th>Read_News</th>\n",
       "      <th>Online_Shopping</th>\n",
       "      <th>Online_Gaming</th>\n",
       "      <th>Facebook</th>\n",
       "      <th>Twitter</th>\n",
       "      <th>Other_Social_Network</th>\n",
       "    </tr>\n",
       "  </thead>\n",
       "  <tbody>\n",
       "    <tr>\n",
       "      <th>0</th>\n",
       "      <td>M</td>\n",
       "      <td>White</td>\n",
       "      <td>1972</td>\n",
       "      <td>M</td>\n",
       "      <td>8</td>\n",
       "      <td>1</td>\n",
       "      <td>Firefox</td>\n",
       "      <td>Google</td>\n",
       "      <td>Yahoo</td>\n",
       "      <td>Y</td>\n",
       "      <td>N</td>\n",
       "      <td>N</td>\n",
       "      <td>Y</td>\n",
       "      <td>N</td>\n",
       "      <td>NaN</td>\n",
       "    </tr>\n",
       "    <tr>\n",
       "      <th>1</th>\n",
       "      <td>M</td>\n",
       "      <td>Hispanic</td>\n",
       "      <td>1981</td>\n",
       "      <td>S</td>\n",
       "      <td>14</td>\n",
       "      <td>2</td>\n",
       "      <td>Chrome</td>\n",
       "      <td>Google</td>\n",
       "      <td>Hotmail</td>\n",
       "      <td>Y</td>\n",
       "      <td>N</td>\n",
       "      <td>N</td>\n",
       "      <td>Y</td>\n",
       "      <td>N</td>\n",
       "      <td>NaN</td>\n",
       "    </tr>\n",
       "    <tr>\n",
       "      <th>2</th>\n",
       "      <td>F</td>\n",
       "      <td>African American</td>\n",
       "      <td>1977</td>\n",
       "      <td>S</td>\n",
       "      <td>6</td>\n",
       "      <td>2</td>\n",
       "      <td>Firefox</td>\n",
       "      <td>Yahoo</td>\n",
       "      <td>Yahoo</td>\n",
       "      <td>Y</td>\n",
       "      <td>Y</td>\n",
       "      <td>N</td>\n",
       "      <td>Y</td>\n",
       "      <td>N</td>\n",
       "      <td>NaN</td>\n",
       "    </tr>\n",
       "    <tr>\n",
       "      <th>3</th>\n",
       "      <td>F</td>\n",
       "      <td>White</td>\n",
       "      <td>1961</td>\n",
       "      <td>D</td>\n",
       "      <td>8</td>\n",
       "      <td>6</td>\n",
       "      <td>Firefox</td>\n",
       "      <td>Google</td>\n",
       "      <td>Hotmail</td>\n",
       "      <td>N</td>\n",
       "      <td>Y</td>\n",
       "      <td>N</td>\n",
       "      <td>N</td>\n",
       "      <td>Y</td>\n",
       "      <td>NaN</td>\n",
       "    </tr>\n",
       "    <tr>\n",
       "      <th>4</th>\n",
       "      <td>M</td>\n",
       "      <td>White</td>\n",
       "      <td>1954</td>\n",
       "      <td>M</td>\n",
       "      <td>2</td>\n",
       "      <td>3</td>\n",
       "      <td>Internet Explorer</td>\n",
       "      <td>Bing</td>\n",
       "      <td>Hotmail</td>\n",
       "      <td>Y</td>\n",
       "      <td>Y</td>\n",
       "      <td>N</td>\n",
       "      <td>Y</td>\n",
       "      <td>N</td>\n",
       "      <td>NaN</td>\n",
       "    </tr>\n",
       "    <tr>\n",
       "      <th>5</th>\n",
       "      <td>M</td>\n",
       "      <td>African American</td>\n",
       "      <td>1982</td>\n",
       "      <td>D</td>\n",
       "      <td>15</td>\n",
       "      <td>4</td>\n",
       "      <td>Internet Explorer</td>\n",
       "      <td>Google</td>\n",
       "      <td>Yahoo</td>\n",
       "      <td>Y</td>\n",
       "      <td>N</td>\n",
       "      <td>Y</td>\n",
       "      <td>N</td>\n",
       "      <td>N</td>\n",
       "      <td>NaN</td>\n",
       "    </tr>\n",
       "    <tr>\n",
       "      <th>6</th>\n",
       "      <td>M</td>\n",
       "      <td>African American</td>\n",
       "      <td>1981</td>\n",
       "      <td>D</td>\n",
       "      <td>11</td>\n",
       "      <td>2</td>\n",
       "      <td>Firefox</td>\n",
       "      <td>Google</td>\n",
       "      <td>Yahoo</td>\n",
       "      <td>NaN</td>\n",
       "      <td>Y</td>\n",
       "      <td>N</td>\n",
       "      <td>Y</td>\n",
       "      <td>Y</td>\n",
       "      <td>LinkedIn</td>\n",
       "    </tr>\n",
       "    <tr>\n",
       "      <th>7</th>\n",
       "      <td>M</td>\n",
       "      <td>White</td>\n",
       "      <td>1977</td>\n",
       "      <td>S</td>\n",
       "      <td>3</td>\n",
       "      <td>3</td>\n",
       "      <td>Internet Explorer</td>\n",
       "      <td>Yahoo</td>\n",
       "      <td>Yahoo</td>\n",
       "      <td>Y</td>\n",
       "      <td>NaN</td>\n",
       "      <td>N</td>\n",
       "      <td>Y</td>\n",
       "      <td>99</td>\n",
       "      <td>LinkedIn</td>\n",
       "    </tr>\n",
       "    <tr>\n",
       "      <th>8</th>\n",
       "      <td>F</td>\n",
       "      <td>African American</td>\n",
       "      <td>1969</td>\n",
       "      <td>M</td>\n",
       "      <td>6</td>\n",
       "      <td>2</td>\n",
       "      <td>Firefox</td>\n",
       "      <td>Google</td>\n",
       "      <td>Gmail</td>\n",
       "      <td>N</td>\n",
       "      <td>Y</td>\n",
       "      <td>N</td>\n",
       "      <td>N</td>\n",
       "      <td>N</td>\n",
       "      <td>NaN</td>\n",
       "    </tr>\n",
       "    <tr>\n",
       "      <th>9</th>\n",
       "      <td>M</td>\n",
       "      <td>White</td>\n",
       "      <td>1987</td>\n",
       "      <td>S</td>\n",
       "      <td>12</td>\n",
       "      <td>1</td>\n",
       "      <td>Safari</td>\n",
       "      <td>Yahoo</td>\n",
       "      <td>Yahoo</td>\n",
       "      <td>Y</td>\n",
       "      <td>NaN</td>\n",
       "      <td>Y</td>\n",
       "      <td>Y</td>\n",
       "      <td>N</td>\n",
       "      <td>MySpace</td>\n",
       "    </tr>\n",
       "    <tr>\n",
       "      <th>10</th>\n",
       "      <td>F</td>\n",
       "      <td>Hispanic</td>\n",
       "      <td>1959</td>\n",
       "      <td>D</td>\n",
       "      <td>12</td>\n",
       "      <td>5</td>\n",
       "      <td>Chrome</td>\n",
       "      <td>Google</td>\n",
       "      <td>Gmail</td>\n",
       "      <td>Y</td>\n",
       "      <td>N</td>\n",
       "      <td>N</td>\n",
       "      <td>Y</td>\n",
       "      <td>N</td>\n",
       "      <td>Google+</td>\n",
       "    </tr>\n",
       "  </tbody>\n",
       "</table>\n",
       "</div>"
      ],
      "text/plain": [
       "   Gender              Race  Birth_Year Marital_Status  Years_on_Internet  \\\n",
       "0       M             White        1972              M                  8   \n",
       "1       M          Hispanic        1981              S                 14   \n",
       "2       F  African American        1977              S                  6   \n",
       "3       F             White        1961              D                  8   \n",
       "4       M             White        1954              M                  2   \n",
       "5       M  African American        1982              D                 15   \n",
       "6       M  African American        1981              D                 11   \n",
       "7       M             White        1977              S                  3   \n",
       "8       F  African American        1969              M                  6   \n",
       "9       M             White        1987              S                 12   \n",
       "10      F          Hispanic        1959              D                 12   \n",
       "\n",
       "    Hours_Per_Day  Preferred_Browser Preferred_Search_Engine Preferred_Email  \\\n",
       "0               1            Firefox                  Google           Yahoo   \n",
       "1               2             Chrome                  Google         Hotmail   \n",
       "2               2            Firefox                   Yahoo           Yahoo   \n",
       "3               6            Firefox                  Google         Hotmail   \n",
       "4               3  Internet Explorer                    Bing         Hotmail   \n",
       "5               4  Internet Explorer                  Google           Yahoo   \n",
       "6               2            Firefox                  Google           Yahoo   \n",
       "7               3  Internet Explorer                   Yahoo           Yahoo   \n",
       "8               2            Firefox                  Google           Gmail   \n",
       "9               1             Safari                   Yahoo           Yahoo   \n",
       "10              5             Chrome                  Google           Gmail   \n",
       "\n",
       "   Read_News Online_Shopping Online_Gaming Facebook Twitter  \\\n",
       "0          Y               N             N        Y       N   \n",
       "1          Y               N             N        Y       N   \n",
       "2          Y               Y             N        Y       N   \n",
       "3          N               Y             N        N       Y   \n",
       "4          Y               Y             N        Y       N   \n",
       "5          Y               N             Y        N       N   \n",
       "6        NaN               Y             N        Y       Y   \n",
       "7          Y             NaN             N        Y      99   \n",
       "8          N               Y             N        N       N   \n",
       "9          Y             NaN             Y        Y       N   \n",
       "10         Y               N             N        Y       N   \n",
       "\n",
       "   Other_Social_Network  \n",
       "0                   NaN  \n",
       "1                   NaN  \n",
       "2                   NaN  \n",
       "3                   NaN  \n",
       "4                   NaN  \n",
       "5                   NaN  \n",
       "6              LinkedIn  \n",
       "7              LinkedIn  \n",
       "8                   NaN  \n",
       "9               MySpace  \n",
       "10              Google+  "
      ]
     },
     "execution_count": 18,
     "metadata": {},
     "output_type": "execute_result"
    }
   ],
   "source": [
    "df\n"
   ]
  },
  {
   "cell_type": "markdown",
   "id": "b10f0d1d",
   "metadata": {},
   "source": [
    "## We have 8 N values , 2 Y values and one 99 value in Twitter column"
   ]
  },
  {
   "cell_type": "code",
   "execution_count": 19,
   "id": "626d4a9e",
   "metadata": {},
   "outputs": [
    {
     "data": {
      "text/plain": [
       "N     8\n",
       "Y     2\n",
       "99    1\n",
       "Name: Twitter, dtype: int64"
      ]
     },
     "execution_count": 19,
     "metadata": {},
     "output_type": "execute_result"
    }
   ],
   "source": [
    "df['Twitter'].value_counts()\n"
   ]
  },
  {
   "cell_type": "markdown",
   "id": "6a0f8cb9",
   "metadata": {},
   "source": [
    "## Replace 99 value into N value in Twitter column"
   ]
  },
  {
   "cell_type": "code",
   "execution_count": 20,
   "id": "1413f133",
   "metadata": {},
   "outputs": [],
   "source": [
    "df['Twitter'] = df['Twitter'].replace('99', 'N')\n"
   ]
  },
  {
   "cell_type": "markdown",
   "id": "8cbce800",
   "metadata": {},
   "source": [
    "## We have 9 N values and 2 Y values in Twitter column\n",
    "### There is no 99 value in the Twitter column"
   ]
  },
  {
   "cell_type": "code",
   "execution_count": 21,
   "id": "713bc9ea",
   "metadata": {},
   "outputs": [
    {
     "data": {
      "text/plain": [
       "N    9\n",
       "Y    2\n",
       "Name: Twitter, dtype: int64"
      ]
     },
     "execution_count": 21,
     "metadata": {},
     "output_type": "execute_result"
    }
   ],
   "source": [
    "df['Twitter'].value_counts()\n"
   ]
  },
  {
   "cell_type": "markdown",
   "id": "62923310",
   "metadata": {},
   "source": [
    "# Task 6 : Reduction of attributes\n",
    "### We want to select Birth_Year, Gender, Marital_Status, Race, Years_on_Internet columns"
   ]
  },
  {
   "cell_type": "code",
   "execution_count": 22,
   "id": "80b2c9cc",
   "metadata": {},
   "outputs": [
    {
     "data": {
      "text/plain": [
       "(11, 15)"
      ]
     },
     "execution_count": 22,
     "metadata": {},
     "output_type": "execute_result"
    }
   ],
   "source": [
    "df.shape\n"
   ]
  },
  {
   "cell_type": "markdown",
   "id": "3e7d5cf8",
   "metadata": {},
   "source": [
    "## Select Birth_Year, Gender, Marital_Status, Race, Years_on_Internet columns"
   ]
  },
  {
   "cell_type": "code",
   "execution_count": 23,
   "id": "465f4932",
   "metadata": {},
   "outputs": [],
   "source": [
    "dropped_attributes_df = df[['Birth_Year', 'Gender', 'Marital_Status', 'Race', 'Years_on_Internet']]\n"
   ]
  },
  {
   "cell_type": "markdown",
   "id": "e9801333",
   "metadata": {},
   "source": [
    "## dropped_attributes_df has 11 rows and 5 columns"
   ]
  },
  {
   "cell_type": "code",
   "execution_count": 24,
   "id": "570d7e04",
   "metadata": {
    "scrolled": true
   },
   "outputs": [
    {
     "data": {
      "text/plain": [
       "(11, 5)"
      ]
     },
     "execution_count": 24,
     "metadata": {},
     "output_type": "execute_result"
    }
   ],
   "source": [
    "dropped_attributes_df.shape\n"
   ]
  },
  {
   "cell_type": "code",
   "execution_count": 25,
   "id": "e9d611b2",
   "metadata": {},
   "outputs": [
    {
     "data": {
      "text/html": [
       "<div>\n",
       "<style scoped>\n",
       "    .dataframe tbody tr th:only-of-type {\n",
       "        vertical-align: middle;\n",
       "    }\n",
       "\n",
       "    .dataframe tbody tr th {\n",
       "        vertical-align: top;\n",
       "    }\n",
       "\n",
       "    .dataframe thead th {\n",
       "        text-align: right;\n",
       "    }\n",
       "</style>\n",
       "<table border=\"1\" class=\"dataframe\">\n",
       "  <thead>\n",
       "    <tr style=\"text-align: right;\">\n",
       "      <th></th>\n",
       "      <th>Birth_Year</th>\n",
       "      <th>Gender</th>\n",
       "      <th>Marital_Status</th>\n",
       "      <th>Race</th>\n",
       "      <th>Years_on_Internet</th>\n",
       "    </tr>\n",
       "  </thead>\n",
       "  <tbody>\n",
       "    <tr>\n",
       "      <th>0</th>\n",
       "      <td>1972</td>\n",
       "      <td>M</td>\n",
       "      <td>M</td>\n",
       "      <td>White</td>\n",
       "      <td>8</td>\n",
       "    </tr>\n",
       "    <tr>\n",
       "      <th>1</th>\n",
       "      <td>1981</td>\n",
       "      <td>M</td>\n",
       "      <td>S</td>\n",
       "      <td>Hispanic</td>\n",
       "      <td>14</td>\n",
       "    </tr>\n",
       "    <tr>\n",
       "      <th>2</th>\n",
       "      <td>1977</td>\n",
       "      <td>F</td>\n",
       "      <td>S</td>\n",
       "      <td>African American</td>\n",
       "      <td>6</td>\n",
       "    </tr>\n",
       "    <tr>\n",
       "      <th>3</th>\n",
       "      <td>1961</td>\n",
       "      <td>F</td>\n",
       "      <td>D</td>\n",
       "      <td>White</td>\n",
       "      <td>8</td>\n",
       "    </tr>\n",
       "    <tr>\n",
       "      <th>4</th>\n",
       "      <td>1954</td>\n",
       "      <td>M</td>\n",
       "      <td>M</td>\n",
       "      <td>White</td>\n",
       "      <td>2</td>\n",
       "    </tr>\n",
       "    <tr>\n",
       "      <th>5</th>\n",
       "      <td>1982</td>\n",
       "      <td>M</td>\n",
       "      <td>D</td>\n",
       "      <td>African American</td>\n",
       "      <td>15</td>\n",
       "    </tr>\n",
       "    <tr>\n",
       "      <th>6</th>\n",
       "      <td>1981</td>\n",
       "      <td>M</td>\n",
       "      <td>D</td>\n",
       "      <td>African American</td>\n",
       "      <td>11</td>\n",
       "    </tr>\n",
       "    <tr>\n",
       "      <th>7</th>\n",
       "      <td>1977</td>\n",
       "      <td>M</td>\n",
       "      <td>S</td>\n",
       "      <td>White</td>\n",
       "      <td>3</td>\n",
       "    </tr>\n",
       "    <tr>\n",
       "      <th>8</th>\n",
       "      <td>1969</td>\n",
       "      <td>F</td>\n",
       "      <td>M</td>\n",
       "      <td>African American</td>\n",
       "      <td>6</td>\n",
       "    </tr>\n",
       "    <tr>\n",
       "      <th>9</th>\n",
       "      <td>1987</td>\n",
       "      <td>M</td>\n",
       "      <td>S</td>\n",
       "      <td>White</td>\n",
       "      <td>12</td>\n",
       "    </tr>\n",
       "    <tr>\n",
       "      <th>10</th>\n",
       "      <td>1959</td>\n",
       "      <td>F</td>\n",
       "      <td>D</td>\n",
       "      <td>Hispanic</td>\n",
       "      <td>12</td>\n",
       "    </tr>\n",
       "  </tbody>\n",
       "</table>\n",
       "</div>"
      ],
      "text/plain": [
       "    Birth_Year Gender Marital_Status              Race  Years_on_Internet\n",
       "0         1972      M              M             White                  8\n",
       "1         1981      M              S          Hispanic                 14\n",
       "2         1977      F              S  African American                  6\n",
       "3         1961      F              D             White                  8\n",
       "4         1954      M              M             White                  2\n",
       "5         1982      M              D  African American                 15\n",
       "6         1981      M              D  African American                 11\n",
       "7         1977      M              S             White                  3\n",
       "8         1969      F              M  African American                  6\n",
       "9         1987      M              S             White                 12\n",
       "10        1959      F              D          Hispanic                 12"
      ]
     },
     "execution_count": 25,
     "metadata": {},
     "output_type": "execute_result"
    }
   ],
   "source": [
    "dropped_attributes_df\n"
   ]
  }
 ],
 "metadata": {
  "kernelspec": {
   "display_name": "Python 3 (ipykernel)",
   "language": "python",
   "name": "python3"
  },
  "language_info": {
   "codemirror_mode": {
    "name": "ipython",
    "version": 3
   },
   "file_extension": ".py",
   "mimetype": "text/x-python",
   "name": "python",
   "nbconvert_exporter": "python",
   "pygments_lexer": "ipython3",
   "version": "3.9.12"
  }
 },
 "nbformat": 4,
 "nbformat_minor": 5
}
